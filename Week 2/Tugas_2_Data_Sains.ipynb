{
  "nbformat": 4,
  "nbformat_minor": 0,
  "metadata": {
    "colab": {
      "name": "Tugas 2 Data Sains.ipynb",
      "provenance": [],
      "authorship_tag": "ABX9TyMzEAOcufOX/2iDAWBMVqEW",
      "include_colab_link": true
    },
    "kernelspec": {
      "name": "python3",
      "display_name": "Python 3"
    },
    "language_info": {
      "name": "python"
    }
  },
  "cells": [
    {
      "cell_type": "markdown",
      "metadata": {
        "id": "view-in-github",
        "colab_type": "text"
      },
      "source": [
        "<a href=\"https://colab.research.google.com/github/aricahyasaputra/data-sains-course-assigment-/blob/main/Week%202/Tugas_2_Data_Sains.ipynb\" target=\"_parent\"><img src=\"https://colab.research.google.com/assets/colab-badge.svg\" alt=\"Open In Colab\"/></a>"
      ]
    },
    {
      "cell_type": "markdown",
      "source": [
        "Nama  : Ari Cahya Saputra\n",
        "\n",
        "NIM   : 1103190093\n",
        "\n",
        "Kelas : TK-42-PIL1\n",
        "\n",
        "Pertama unduh datasetnya dari website Kaggle, disini saya menggunakan Dataset Jumlah Pendapatan daerah pertahun yang saya unduh dari link : [Indonesia Salary by Region](https://www.kaggle.com/linkgish/indonesian-salary-by-region-19972022)\n",
        "\n",
        "Setelah itu kita import terlebih dahulu module nya"
      ],
      "metadata": {
        "id": "as2kN6mYh6Af"
      }
    },
    {
      "cell_type": "code",
      "execution_count": 1,
      "metadata": {
        "id": "otiYNecIfWeF"
      },
      "outputs": [],
      "source": [
        "import matplotlib.pyplot as plt\n",
        "import pandas as pd"
      ]
    },
    {
      "cell_type": "markdown",
      "source": [
        "Setelah itu kita baca datanya menggunakan pandas"
      ],
      "metadata": {
        "id": "LhVw0it4izWs"
      }
    },
    {
      "cell_type": "code",
      "source": [
        "df = pd.read_csv(\"https://raw.githubusercontent.com/aricahyasaputra/data-sains-course-assigment-/main/Week%202/Indonesian%20Salary%20by%20Region%20(1997-2022).csv\")"
      ],
      "metadata": {
        "id": "mnSI42AchC2L"
      },
      "execution_count": 2,
      "outputs": []
    },
    {
      "cell_type": "markdown",
      "source": [
        "Karena memuat banyak daerah disini saya memfilter untuk mengambil data hanya dari daerah aceh"
      ],
      "metadata": {
        "id": "P8TsA--Vi6IT"
      }
    },
    {
      "cell_type": "code",
      "source": [
        "select_region = df.loc[df['REGION'] == 'ACEH']"
      ],
      "metadata": {
        "id": "SnMjxApChJ62"
      },
      "execution_count": 3,
      "outputs": []
    },
    {
      "cell_type": "markdown",
      "source": [
        "Tentukan "
      ],
      "metadata": {
        "id": "gpBRH6bOjO_8"
      }
    },
    {
      "cell_type": "code",
      "source": [
        "x = select_region['YEAR']\n",
        "y = select_region['SALARY']"
      ],
      "metadata": {
        "id": "wuGvPT4XhO5r"
      },
      "execution_count": 5,
      "outputs": []
    },
    {
      "cell_type": "code",
      "source": [
        "plt.bar(x, y)"
      ],
      "metadata": {
        "outputId": "fb308d33-4f2c-415d-b2ac-7db485f8487a",
        "colab": {
          "base_uri": "https://localhost:8080/",
          "height": 294
        },
        "id": "vaBn7LJ5heJW"
      },
      "execution_count": 8,
      "outputs": [
        {
          "output_type": "execute_result",
          "data": {
            "text/plain": [
              "<BarContainer object of 26 artists>"
            ]
          },
          "metadata": {},
          "execution_count": 8
        },
        {
          "output_type": "display_data",
          "data": {
            "image/png": "[encoded data removed]",
            "text/plain": [
              "<Figure size 432x288 with 1 Axes>"
            ]
          },
          "metadata": {
            "needs_background": "light"
          }
        }
      ]
    },
    {
      "cell_type": "code",
      "source": [
        "plt.scatter(x, y)"
      ],
      "metadata": {
        "colab": {
          "base_uri": "https://localhost:8080/",
          "height": 294
        },
        "id": "PS3pLjNqhTji",
        "outputId": "f543ac52-5ef9-4a8a-e89f-fec21b6a4733"
      },
      "execution_count": 9,
      "outputs": [
        {
          "output_type": "execute_result",
          "data": {
            "text/plain": [
              "<matplotlib.collections.PathCollection at 0x7f43debbe250>"
            ]
          },
          "metadata": {},
          "execution_count": 9
        },
        {
          "output_type": "display_data",
          "data": {
            "image/png": "[encoded data removed]",
            "text/plain": [
              "<Figure size 432x288 with 1 Axes>"
            ]
          },
          "metadata": {
            "needs_background": "light"
          }
        }
      ]
    },
    {
      "cell_type": "code",
      "source": [
        "plt.plot(x, y)"
      ],
      "metadata": {
        "outputId": "e7c4e5c2-66c6-450c-be89-8a1a37a93917",
        "colab": {
          "base_uri": "https://localhost:8080/",
          "height": 294
        },
        "id": "oCbThVdAho41"
      },
      "execution_count": 10,
      "outputs": [
        {
          "output_type": "execute_result",
          "data": {
            "text/plain": [
              "[<matplotlib.lines.Line2D at 0x7f43e587d2d0>]"
            ]
          },
          "metadata": {},
          "execution_count": 10
        },
        {
          "output_type": "display_data",
          "data": {
            "image/png": "[encoded data removed]",
            "text/plain": [
              "<Figure size 432x288 with 1 Axes>"
            ]
          },
          "metadata": {
            "needs_background": "light"
          }
        }
      ]
    }
  ]
}