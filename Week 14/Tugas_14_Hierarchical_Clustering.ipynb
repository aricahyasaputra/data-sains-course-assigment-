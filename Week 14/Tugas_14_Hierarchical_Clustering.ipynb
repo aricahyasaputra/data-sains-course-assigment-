{
  "nbformat": 4,
  "nbformat_minor": 0,
  "metadata": {
    "colab": {
      "name": "Tugas_14_Hierarchical Clustering.ipynb",
      "provenance": [],
      "authorship_tag": "ABX9TyOiFIOKHMzU3Rr647+XVl55",
      "include_colab_link": true
    },
    "kernelspec": {
      "name": "python3",
      "display_name": "Python 3"
    },
    "language_info": {
      "name": "python"
    }
  },
  "cells": [
    {
      "cell_type": "markdown",
      "metadata": {
        "id": "view-in-github",
        "colab_type": "text"
      },
      "source": [
        "<a href=\"https://colab.research.google.com/github/aricahyasaputra/data-sains-course-assigment-/blob/main/Week%2014/Tugas_14_Hierarchical_Clustering.ipynb\" target=\"_parent\"><img src=\"https://colab.research.google.com/assets/colab-badge.svg\" alt=\"Open In Colab\"/></a>"
      ]
    },
    {
      "cell_type": "code",
      "execution_count": 2,
      "metadata": {
        "id": "fbba2f87"
      },
      "outputs": [],
      "source": [
        "# Mengimpor library\n",
        "import numpy as np\n",
        "import matplotlib.pyplot as plt\n",
        "import pandas as pd"
      ]
    },
    {
      "cell_type": "code",
      "execution_count": 3,
      "metadata": {
        "id": "aee18103",
        "colab": {
          "base_uri": "https://localhost:8080/",
          "height": 206
        },
        "outputId": "6fb2eb04-4260-4ef9-d4cd-265b935b8000"
      },
      "outputs": [
        {
          "output_type": "execute_result",
          "data": {
            "text/plain": [
              "        Name  Team Position  KDA Ratio  Kills(Total)  Deaths(Total)  \\\n",
              "0      Rookie   IG      Mid        9.2            44             14   \n",
              "1      Baolan   IG  Support        9.1            12             15   \n",
              "2        iBoy  EDG      ADC        7.0            14              5   \n",
              "3     Rekkles  FNC      ADC        6.8            33             13   \n",
              "4  JackeyLove   IG      ADC        6.5            59             19   \n",
              "\n",
              "   Assists(Total)  Kill Participation  CS(Per Minute)  CS(Total)  \\\n",
              "0              85                0.69             8.6       2996   \n",
              "1             124                0.73             1.4        474   \n",
              "2              21                0.73            10.0       1344   \n",
              "3              55                0.70            10.1       3173   \n",
              "4              64                0.66            10.5       3634   \n",
              "\n",
              "   Minutes Played  Games Played  \n",
              "0             346            11  \n",
              "1             346            11  \n",
              "2             134             4  \n",
              "3             313            10  \n",
              "4             346            11  "
            ],
            "text/html": [
              "\n",
              "  <div id=\"df-2e96db6d-19c7-4a78-a443-56634b27455b\">\n",
              "    <div class=\"colab-df-container\">\n",
              "      <div>\n",
              "<style scoped>\n",
              "    .dataframe tbody tr th:only-of-type {\n",
              "        vertical-align: middle;\n",
              "    }\n",
              "\n",
              "    .dataframe tbody tr th {\n",
              "        vertical-align: top;\n",
              "    }\n",
              "\n",
              "    .dataframe thead th {\n",
              "        text-align: right;\n",
              "    }\n",
              "</style>\n",
              "<table border=\"1\" class=\"dataframe\">\n",
              "  <thead>\n",
              "    <tr style=\"text-align: right;\">\n",
              "      <th></th>\n",
              "      <th>Name</th>\n",
              "      <th>Team</th>\n",
              "      <th>Position</th>\n",
              "      <th>KDA Ratio</th>\n",
              "      <th>Kills(Total)</th>\n",
              "      <th>Deaths(Total)</th>\n",
              "      <th>Assists(Total)</th>\n",
              "      <th>Kill Participation</th>\n",
              "      <th>CS(Per Minute)</th>\n",
              "      <th>CS(Total)</th>\n",
              "      <th>Minutes Played</th>\n",
              "      <th>Games Played</th>\n",
              "    </tr>\n",
              "  </thead>\n",
              "  <tbody>\n",
              "    <tr>\n",
              "      <th>0</th>\n",
              "      <td>Rookie</td>\n",
              "      <td>IG</td>\n",
              "      <td>Mid</td>\n",
              "      <td>9.2</td>\n",
              "      <td>44</td>\n",
              "      <td>14</td>\n",
              "      <td>85</td>\n",
              "      <td>0.69</td>\n",
              "      <td>8.6</td>\n",
              "      <td>2996</td>\n",
              "      <td>346</td>\n",
              "      <td>11</td>\n",
              "    </tr>\n",
              "    <tr>\n",
              "      <th>1</th>\n",
              "      <td>Baolan</td>\n",
              "      <td>IG</td>\n",
              "      <td>Support</td>\n",
              "      <td>9.1</td>\n",
              "      <td>12</td>\n",
              "      <td>15</td>\n",
              "      <td>124</td>\n",
              "      <td>0.73</td>\n",
              "      <td>1.4</td>\n",
              "      <td>474</td>\n",
              "      <td>346</td>\n",
              "      <td>11</td>\n",
              "    </tr>\n",
              "    <tr>\n",
              "      <th>2</th>\n",
              "      <td>iBoy</td>\n",
              "      <td>EDG</td>\n",
              "      <td>ADC</td>\n",
              "      <td>7.0</td>\n",
              "      <td>14</td>\n",
              "      <td>5</td>\n",
              "      <td>21</td>\n",
              "      <td>0.73</td>\n",
              "      <td>10.0</td>\n",
              "      <td>1344</td>\n",
              "      <td>134</td>\n",
              "      <td>4</td>\n",
              "    </tr>\n",
              "    <tr>\n",
              "      <th>3</th>\n",
              "      <td>Rekkles</td>\n",
              "      <td>FNC</td>\n",
              "      <td>ADC</td>\n",
              "      <td>6.8</td>\n",
              "      <td>33</td>\n",
              "      <td>13</td>\n",
              "      <td>55</td>\n",
              "      <td>0.70</td>\n",
              "      <td>10.1</td>\n",
              "      <td>3173</td>\n",
              "      <td>313</td>\n",
              "      <td>10</td>\n",
              "    </tr>\n",
              "    <tr>\n",
              "      <th>4</th>\n",
              "      <td>JackeyLove</td>\n",
              "      <td>IG</td>\n",
              "      <td>ADC</td>\n",
              "      <td>6.5</td>\n",
              "      <td>59</td>\n",
              "      <td>19</td>\n",
              "      <td>64</td>\n",
              "      <td>0.66</td>\n",
              "      <td>10.5</td>\n",
              "      <td>3634</td>\n",
              "      <td>346</td>\n",
              "      <td>11</td>\n",
              "    </tr>\n",
              "  </tbody>\n",
              "</table>\n",
              "</div>\n",
              "      <button class=\"colab-df-convert\" onclick=\"convertToInteractive('df-2e96db6d-19c7-4a78-a443-56634b27455b')\"\n",
              "              title=\"Convert this dataframe to an interactive table.\"\n",
              "              style=\"display:none;\">\n",
              "        \n",
              "  <svg xmlns=\"http://www.w3.org/2000/svg\" height=\"24px\"viewBox=\"0 0 24 24\"\n",
              "       width=\"24px\">\n",
              "    <path d=\"M0 0h24v24H0V0z\" fill=\"none\"/>\n",
              "    <path d=\"M18.56 5.44l.94 2.06.94-2.06 2.06-.94-2.06-.94-.94-2.06-.94 2.06-2.06.94zm-11 1L8.5 8.5l.94-2.06 2.06-.94-2.06-.94L8.5 2.5l-.94 2.06-2.06.94zm10 10l.94 2.06.94-2.06 2.06-.94-2.06-.94-.94-2.06-.94 2.06-2.06.94z\"/><path d=\"M17.41 7.96l-1.37-1.37c-.4-.4-.92-.59-1.43-.59-.52 0-1.04.2-1.43.59L10.3 9.45l-7.72 7.72c-.78.78-.78 2.05 0 2.83L4 21.41c.39.39.9.59 1.41.59.51 0 1.02-.2 1.41-.59l7.78-7.78 2.81-2.81c.8-.78.8-2.07 0-2.86zM5.41 20L4 18.59l7.72-7.72 1.47 1.35L5.41 20z\"/>\n",
              "  </svg>\n",
              "      </button>\n",
              "      \n",
              "  <style>\n",
              "    .colab-df-container {\n",
              "      display:flex;\n",
              "      flex-wrap:wrap;\n",
              "      gap: 12px;\n",
              "    }\n",
              "\n",
              "    .colab-df-convert {\n",
              "      background-color: #E8F0FE;\n",
              "      border: none;\n",
              "      border-radius: 50%;\n",
              "      cursor: pointer;\n",
              "      display: none;\n",
              "      fill: #1967D2;\n",
              "      height: 32px;\n",
              "      padding: 0 0 0 0;\n",
              "      width: 32px;\n",
              "    }\n",
              "\n",
              "    .colab-df-convert:hover {\n",
              "      background-color: #E2EBFA;\n",
              "      box-shadow: 0px 1px 2px rgba(60, 64, 67, 0.3), 0px 1px 3px 1px rgba(60, 64, 67, 0.15);\n",
              "      fill: #174EA6;\n",
              "    }\n",
              "\n",
              "    [theme=dark] .colab-df-convert {\n",
              "      background-color: #3B4455;\n",
              "      fill: #D2E3FC;\n",
              "    }\n",
              "\n",
              "    [theme=dark] .colab-df-convert:hover {\n",
              "      background-color: #434B5C;\n",
              "      box-shadow: 0px 1px 3px 1px rgba(0, 0, 0, 0.15);\n",
              "      filter: drop-shadow(0px 1px 2px rgba(0, 0, 0, 0.3));\n",
              "      fill: #FFFFFF;\n",
              "    }\n",
              "  </style>\n",
              "\n",
              "      <script>\n",
              "        const buttonEl =\n",
              "          document.querySelector('#df-2e96db6d-19c7-4a78-a443-56634b27455b button.colab-df-convert');\n",
              "        buttonEl.style.display =\n",
              "          google.colab.kernel.accessAllowed ? 'block' : 'none';\n",
              "\n",
              "        async function convertToInteractive(key) {\n",
              "          const element = document.querySelector('#df-2e96db6d-19c7-4a78-a443-56634b27455b');\n",
              "          const dataTable =\n",
              "            await google.colab.kernel.invokeFunction('convertToInteractive',\n",
              "                                                     [key], {});\n",
              "          if (!dataTable) return;\n",
              "\n",
              "          const docLinkHtml = 'Like what you see? Visit the ' +\n",
              "            '<a target=\"_blank\" href=https://colab.research.google.com/notebooks/data_table.ipynb>data table notebook</a>'\n",
              "            + ' to learn more about interactive tables.';\n",
              "          element.innerHTML = '';\n",
              "          dataTable['output_type'] = 'display_data';\n",
              "          await google.colab.output.renderOutput(dataTable, element);\n",
              "          const docLink = document.createElement('div');\n",
              "          docLink.innerHTML = docLinkHtml;\n",
              "          element.appendChild(docLink);\n",
              "        }\n",
              "      </script>\n",
              "    </div>\n",
              "  </div>\n",
              "  "
            ]
          },
          "metadata": {},
          "execution_count": 3
        }
      ],
      "source": [
        "# Mengimpor dataset\n",
        "dataset = pd.read_csv('https://raw.githubusercontent.com/aricahyasaputra/data-sains-course-assigment-/main/Week%2014/LOL%20Worlds%202018%20Knockout%20stage%20-%20Player%20Ratings.csv')\n",
        "dataset.head()"
      ]
    },
    {
      "cell_type": "code",
      "source": [
        "X = dataset.iloc[:, [4, 5]].values"
      ],
      "metadata": {
        "id": "-k6h4IrXzS6A"
      },
      "execution_count": 4,
      "outputs": []
    },
    {
      "cell_type": "code",
      "source": [
        "# Menggunakan dendrogram untuk menentukan angka cluster yang tepat\n",
        "import scipy.cluster.hierarchy as sch\n",
        "dendrogram = sch.dendrogram(sch.linkage(X, method = 'ward'))\n",
        "plt.title('Dendrogram')\n",
        "plt.xlabel('KDA')\n",
        "plt.ylabel('Euclidean Distance')\n",
        "plt.show()"
      ],
      "metadata": {
        "colab": {
          "base_uri": "https://localhost:8080/",
          "height": 296
        },
        "id": "LS60EzAoFu6e",
        "outputId": "628c5201-33b3-44c9-ed33-894d5057e322"
      },
      "execution_count": 6,
      "outputs": [
        {
          "output_type": "display_data",
          "data": {
            "text/plain": [
              "<Figure size 432x288 with 1 Axes>"
            ],
            "image/png": "[encoded data removed]"
          },
          "metadata": {
            "needs_background": "light"
          }
        }
      ]
    },
    {
      "cell_type": "code",
      "execution_count": 7,
      "metadata": {
        "id": "5226ba50"
      },
      "outputs": [],
      "source": [
        "# Menjalankan Hierarchical Clustering ke dataset\n",
        "from sklearn.cluster import AgglomerativeClustering\n",
        "hc = AgglomerativeClustering(n_clusters = 3, affinity = 'euclidean', linkage = 'ward')\n",
        "y_hc = hc.fit_predict(X)"
      ]
    },
    {
      "cell_type": "code",
      "execution_count": 8,
      "metadata": {
        "id": "9df77e76",
        "outputId": "549f8759-15db-48a9-8f53-25ac716dfe25",
        "colab": {
          "base_uri": "https://localhost:8080/",
          "height": 295
        }
      },
      "outputs": [
        {
          "output_type": "display_data",
          "data": {
            "text/plain": [
              "<Figure size 432x288 with 1 Axes>"
            ],
            "image/png": "[encoded data removed]"
          },
          "metadata": {
            "needs_background": "light"
          }
        }
      ],
      "source": [
        "# Visualisasi hasil clusters\n",
        "plt.scatter(X[y_hc == 0, 0], X[y_hc == 0, 1], s = 100, c = 'red', label = 'Cluster 1')\n",
        "plt.scatter(X[y_hc == 1, 0], X[y_hc == 1, 1], s = 100, c = 'blue', label = 'Cluster 2')\n",
        "plt.scatter(X[y_hc == 2, 0], X[y_hc == 2, 1], s = 100, c = 'green', label = 'Cluster 3')\n",
        "plt.scatter(X[y_hc == 3, 0], X[y_hc == 3, 1], s = 100, c = 'cyan', label = 'Cluster 4')\n",
        "plt.scatter(X[y_hc == 4, 0], X[y_hc == 4, 1], s = 100, c = 'magenta', label = 'Cluster 5')\n",
        "plt.title('KDA Score')\n",
        "plt.xlabel('Kill')\n",
        "plt.ylabel('Death)')\n",
        "plt.legend()\n",
        "plt.show()"
      ]
    }
  ]
}