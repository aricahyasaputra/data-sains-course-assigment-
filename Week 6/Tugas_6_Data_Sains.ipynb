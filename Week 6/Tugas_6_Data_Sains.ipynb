{
  "nbformat": 4,
  "nbformat_minor": 0,
  "metadata": {
    "colab": {
      "name": "Tugas_6_Data_Sains.ipynb",
      "provenance": [],
      "authorship_tag": "ABX9TyOyjlFowhrFhYS9i6kc1cCt",
      "include_colab_link": true
    },
    "kernelspec": {
      "name": "python3",
      "display_name": "Python 3"
    },
    "language_info": {
      "name": "python"
    }
  },
  "cells": [
    {
      "cell_type": "markdown",
      "metadata": {
        "id": "view-in-github",
        "colab_type": "text"
      },
      "source": [
        "<a href=\"https://colab.research.google.com/github/aricahyasaputra/data-sains-course-assigment-/blob/main/Week%206/Tugas_6_Data_Sains.ipynb\" target=\"_parent\"><img src=\"https://colab.research.google.com/assets/colab-badge.svg\" alt=\"Open In Colab\"/></a>"
      ]
    },
    {
      "cell_type": "code",
      "execution_count": null,
      "metadata": {
        "id": "mMXB9Os0C-WW"
      },
      "outputs": [],
      "source": [
        ""
      ]
    }
  ]
}