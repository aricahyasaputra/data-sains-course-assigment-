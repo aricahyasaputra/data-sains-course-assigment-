{
  "nbformat": 4,
  "nbformat_minor": 0,
  "metadata": {
    "colab": {
      "name": "Quiz Minggu 12 Regresi Non Linear.ipynb",
      "provenance": [],
      "collapsed_sections": [],
      "authorship_tag": "ABX9TyPgoRHdet3Ix8N0O6MUzr7f",
      "include_colab_link": true
    },
    "kernelspec": {
      "name": "python3",
      "display_name": "Python 3"
    },
    "language_info": {
      "name": "python"
    }
  },
  "cells": [
    {
      "cell_type": "markdown",
      "metadata": {
        "id": "view-in-github",
        "colab_type": "text"
      },
      "source": [
        "<a href=\"https://colab.research.google.com/github/aricahyasaputra/data-sains-course-assigment-/blob/main/Quiz/Quiz_Minggu_12_Regresi_Non_Linear.ipynb\" target=\"_parent\"><img src=\"https://colab.research.google.com/assets/colab-badge.svg\" alt=\"Open In Colab\"/></a>"
      ]
    },
    {
      "cell_type": "markdown",
      "source": [
        "Nama Kelompok :     \n",
        "*   Ari Cahya Saputra\n",
        "*   Salman Al Farisi\n",
        "   \n",
        "NIM : \n",
        "*   1103190093\n",
        "*   1103194131\n",
        "\n",
        "Kelas : TK-42-PIL1\n"
      ],
      "metadata": {
        "id": "06jFU4IZ_mzS"
      }
    },
    {
      "cell_type": "markdown",
      "source": [
        "Data set : https://www.kaggle.com/datasets/imdevskp/corona-virus-report?select=day_wise.csv"
      ],
      "metadata": {
        "id": "6zwpBrZcAKCb"
      }
    },
    {
      "cell_type": "markdown",
      "metadata": {
        "id": "1XnqbTEtLvkR"
      },
      "source": [
        "# Contoh Regresi Non Linier\n",
        "---"
      ]
    },
    {
      "cell_type": "markdown",
      "metadata": {
        "id": "hQzsLh9oLvkU"
      },
      "source": [
        "Sebagai contoh, kita akan mencoba dan menyesuaikan model non-linier ke titik data yang sesuai dengan PDB Tiongkok dari tahun 1960 hingga 2014. Kita mengunduh kumpulan data dengan dua kolom, yang pertama, satu tahun antara 1960 dan 2014, yang kedua, Pendapatan domestik bruto tahunan China yang sesuai dalam dolar AS untuk tahun itu."
      ]
    },
    {
      "cell_type": "code",
      "execution_count": 2,
      "metadata": {
        "id": "oDhH58B8LvkV"
      },
      "outputs": [],
      "source": [
        "import matplotlib.pyplot as plt\n",
        "import pandas as pd\n",
        "import pylab as pl\n",
        "import numpy as np\n",
        "%matplotlib inline"
      ]
    },
    {
      "cell_type": "code",
      "source": [
        "df = pd.read_csv(\"https://raw.githubusercontent.com/aricahyasaputra/data-sains-course-assigment-/main/Quiz/day_wise.csv\")\n",
        "# melihat dataset\n",
        "df.head()"
      ],
      "metadata": {
        "colab": {
          "base_uri": "https://localhost:8080/",
          "height": 206
        },
        "id": "wf1BEXvFCWOj",
        "outputId": "658e5b23-4863-43c9-ff07-a8d380ba224d"
      },
      "execution_count": 3,
      "outputs": [
        {
          "output_type": "execute_result",
          "data": {
            "text/plain": [
              "         Date  Confirmed  Deaths  Recovered  Active  New cases  New deaths  \\\n",
              "0  2020-01-22        555      17         28     510          0           0   \n",
              "1  2020-01-23        654      18         30     606         99           1   \n",
              "2  2020-01-24        941      26         36     879        287           8   \n",
              "3  2020-01-25       1434      42         39    1353        493          16   \n",
              "4  2020-01-26       2118      56         52    2010        684          14   \n",
              "\n",
              "   New recovered  Deaths / 100 Cases  Recovered / 100 Cases  \\\n",
              "0              0                3.06                   5.05   \n",
              "1              2                2.75                   4.59   \n",
              "2              6                2.76                   3.83   \n",
              "3              3                2.93                   2.72   \n",
              "4             13                2.64                   2.46   \n",
              "\n",
              "   Deaths / 100 Recovered  No. of countries  \n",
              "0                   60.71                 6  \n",
              "1                   60.00                 8  \n",
              "2                   72.22                 9  \n",
              "3                  107.69                11  \n",
              "4                  107.69                13  "
            ],
            "text/html": [
              "\n",
              "  <div id=\"df-e8cf1b03-2319-4f5e-9a3c-a25aafd1d10b\">\n",
              "    <div class=\"colab-df-container\">\n",
              "      <div>\n",
              "<style scoped>\n",
              "    .dataframe tbody tr th:only-of-type {\n",
              "        vertical-align: middle;\n",
              "    }\n",
              "\n",
              "    .dataframe tbody tr th {\n",
              "        vertical-align: top;\n",
              "    }\n",
              "\n",
              "    .dataframe thead th {\n",
              "        text-align: right;\n",
              "    }\n",
              "</style>\n",
              "<table border=\"1\" class=\"dataframe\">\n",
              "  <thead>\n",
              "    <tr style=\"text-align: right;\">\n",
              "      <th></th>\n",
              "      <th>Date</th>\n",
              "      <th>Confirmed</th>\n",
              "      <th>Deaths</th>\n",
              "      <th>Recovered</th>\n",
              "      <th>Active</th>\n",
              "      <th>New cases</th>\n",
              "      <th>New deaths</th>\n",
              "      <th>New recovered</th>\n",
              "      <th>Deaths / 100 Cases</th>\n",
              "      <th>Recovered / 100 Cases</th>\n",
              "      <th>Deaths / 100 Recovered</th>\n",
              "      <th>No. of countries</th>\n",
              "    </tr>\n",
              "  </thead>\n",
              "  <tbody>\n",
              "    <tr>\n",
              "      <th>0</th>\n",
              "      <td>2020-01-22</td>\n",
              "      <td>555</td>\n",
              "      <td>17</td>\n",
              "      <td>28</td>\n",
              "      <td>510</td>\n",
              "      <td>0</td>\n",
              "      <td>0</td>\n",
              "      <td>0</td>\n",
              "      <td>3.06</td>\n",
              "      <td>5.05</td>\n",
              "      <td>60.71</td>\n",
              "      <td>6</td>\n",
              "    </tr>\n",
              "    <tr>\n",
              "      <th>1</th>\n",
              "      <td>2020-01-23</td>\n",
              "      <td>654</td>\n",
              "      <td>18</td>\n",
              "      <td>30</td>\n",
              "      <td>606</td>\n",
              "      <td>99</td>\n",
              "      <td>1</td>\n",
              "      <td>2</td>\n",
              "      <td>2.75</td>\n",
              "      <td>4.59</td>\n",
              "      <td>60.00</td>\n",
              "      <td>8</td>\n",
              "    </tr>\n",
              "    <tr>\n",
              "      <th>2</th>\n",
              "      <td>2020-01-24</td>\n",
              "      <td>941</td>\n",
              "      <td>26</td>\n",
              "      <td>36</td>\n",
              "      <td>879</td>\n",
              "      <td>287</td>\n",
              "      <td>8</td>\n",
              "      <td>6</td>\n",
              "      <td>2.76</td>\n",
              "      <td>3.83</td>\n",
              "      <td>72.22</td>\n",
              "      <td>9</td>\n",
              "    </tr>\n",
              "    <tr>\n",
              "      <th>3</th>\n",
              "      <td>2020-01-25</td>\n",
              "      <td>1434</td>\n",
              "      <td>42</td>\n",
              "      <td>39</td>\n",
              "      <td>1353</td>\n",
              "      <td>493</td>\n",
              "      <td>16</td>\n",
              "      <td>3</td>\n",
              "      <td>2.93</td>\n",
              "      <td>2.72</td>\n",
              "      <td>107.69</td>\n",
              "      <td>11</td>\n",
              "    </tr>\n",
              "    <tr>\n",
              "      <th>4</th>\n",
              "      <td>2020-01-26</td>\n",
              "      <td>2118</td>\n",
              "      <td>56</td>\n",
              "      <td>52</td>\n",
              "      <td>2010</td>\n",
              "      <td>684</td>\n",
              "      <td>14</td>\n",
              "      <td>13</td>\n",
              "      <td>2.64</td>\n",
              "      <td>2.46</td>\n",
              "      <td>107.69</td>\n",
              "      <td>13</td>\n",
              "    </tr>\n",
              "  </tbody>\n",
              "</table>\n",
              "</div>\n",
              "      <button class=\"colab-df-convert\" onclick=\"convertToInteractive('df-e8cf1b03-2319-4f5e-9a3c-a25aafd1d10b')\"\n",
              "              title=\"Convert this dataframe to an interactive table.\"\n",
              "              style=\"display:none;\">\n",
              "        \n",
              "  <svg xmlns=\"http://www.w3.org/2000/svg\" height=\"24px\"viewBox=\"0 0 24 24\"\n",
              "       width=\"24px\">\n",
              "    <path d=\"M0 0h24v24H0V0z\" fill=\"none\"/>\n",
              "    <path d=\"M18.56 5.44l.94 2.06.94-2.06 2.06-.94-2.06-.94-.94-2.06-.94 2.06-2.06.94zm-11 1L8.5 8.5l.94-2.06 2.06-.94-2.06-.94L8.5 2.5l-.94 2.06-2.06.94zm10 10l.94 2.06.94-2.06 2.06-.94-2.06-.94-.94-2.06-.94 2.06-2.06.94z\"/><path d=\"M17.41 7.96l-1.37-1.37c-.4-.4-.92-.59-1.43-.59-.52 0-1.04.2-1.43.59L10.3 9.45l-7.72 7.72c-.78.78-.78 2.05 0 2.83L4 21.41c.39.39.9.59 1.41.59.51 0 1.02-.2 1.41-.59l7.78-7.78 2.81-2.81c.8-.78.8-2.07 0-2.86zM5.41 20L4 18.59l7.72-7.72 1.47 1.35L5.41 20z\"/>\n",
              "  </svg>\n",
              "      </button>\n",
              "      \n",
              "  <style>\n",
              "    .colab-df-container {\n",
              "      display:flex;\n",
              "      flex-wrap:wrap;\n",
              "      gap: 12px;\n",
              "    }\n",
              "\n",
              "    .colab-df-convert {\n",
              "      background-color: #E8F0FE;\n",
              "      border: none;\n",
              "      border-radius: 50%;\n",
              "      cursor: pointer;\n",
              "      display: none;\n",
              "      fill: #1967D2;\n",
              "      height: 32px;\n",
              "      padding: 0 0 0 0;\n",
              "      width: 32px;\n",
              "    }\n",
              "\n",
              "    .colab-df-convert:hover {\n",
              "      background-color: #E2EBFA;\n",
              "      box-shadow: 0px 1px 2px rgba(60, 64, 67, 0.3), 0px 1px 3px 1px rgba(60, 64, 67, 0.15);\n",
              "      fill: #174EA6;\n",
              "    }\n",
              "\n",
              "    [theme=dark] .colab-df-convert {\n",
              "      background-color: #3B4455;\n",
              "      fill: #D2E3FC;\n",
              "    }\n",
              "\n",
              "    [theme=dark] .colab-df-convert:hover {\n",
              "      background-color: #434B5C;\n",
              "      box-shadow: 0px 1px 3px 1px rgba(0, 0, 0, 0.15);\n",
              "      filter: drop-shadow(0px 1px 2px rgba(0, 0, 0, 0.3));\n",
              "      fill: #FFFFFF;\n",
              "    }\n",
              "  </style>\n",
              "\n",
              "      <script>\n",
              "        const buttonEl =\n",
              "          document.querySelector('#df-e8cf1b03-2319-4f5e-9a3c-a25aafd1d10b button.colab-df-convert');\n",
              "        buttonEl.style.display =\n",
              "          google.colab.kernel.accessAllowed ? 'block' : 'none';\n",
              "\n",
              "        async function convertToInteractive(key) {\n",
              "          const element = document.querySelector('#df-e8cf1b03-2319-4f5e-9a3c-a25aafd1d10b');\n",
              "          const dataTable =\n",
              "            await google.colab.kernel.invokeFunction('convertToInteractive',\n",
              "                                                     [key], {});\n",
              "          if (!dataTable) return;\n",
              "\n",
              "          const docLinkHtml = 'Like what you see? Visit the ' +\n",
              "            '<a target=\"_blank\" href=https://colab.research.google.com/notebooks/data_table.ipynb>data table notebook</a>'\n",
              "            + ' to learn more about interactive tables.';\n",
              "          element.innerHTML = '';\n",
              "          dataTable['output_type'] = 'display_data';\n",
              "          await google.colab.output.renderOutput(dataTable, element);\n",
              "          const docLink = document.createElement('div');\n",
              "          docLink.innerHTML = docLinkHtml;\n",
              "          element.appendChild(docLink);\n",
              "        }\n",
              "      </script>\n",
              "    </div>\n",
              "  </div>\n",
              "  "
            ]
          },
          "metadata": {},
          "execution_count": 3
        }
      ]
    },
    {
      "cell_type": "code",
      "source": [
        "# merangkum data\n",
        "df.describe()"
      ],
      "metadata": {
        "colab": {
          "base_uri": "https://localhost:8080/",
          "height": 300
        },
        "id": "sTJk8PEkCpMX",
        "outputId": "55948774-5d1e-4b7b-e617-f2bed6a3640e"
      },
      "execution_count": 4,
      "outputs": [
        {
          "output_type": "execute_result",
          "data": {
            "text/plain": [
              "          Confirmed         Deaths     Recovered        Active      New cases  \\\n",
              "count  1.880000e+02     188.000000  1.880000e+02  1.880000e+02     188.000000   \n",
              "mean   4.406960e+06  230770.760638  2.066001e+06  2.110188e+06   87771.021277   \n",
              "std    4.757988e+06  217929.094183  2.627976e+06  1.969670e+06   75295.293255   \n",
              "min    5.550000e+02      17.000000  2.800000e+01  5.100000e+02       0.000000   \n",
              "25%    1.121910e+05    3935.000000  6.044125e+04  5.864175e+04    5568.500000   \n",
              "50%    2.848733e+06  204190.000000  7.847840e+05  1.859759e+06   81114.000000   \n",
              "75%    7.422046e+06  418634.500000  3.416396e+06  3.587015e+06  131502.500000   \n",
              "max    1.648048e+07  654036.000000  9.468087e+06  6.358362e+06  282756.000000   \n",
              "\n",
              "        New deaths  New recovered  Deaths / 100 Cases  Recovered / 100 Cases  \\\n",
              "count   188.000000     188.000000          188.000000             188.000000   \n",
              "mean   3478.824468   50362.015957            4.860638              34.343936   \n",
              "std    2537.735652   56090.892479            1.579541              16.206159   \n",
              "min       0.000000       0.000000            2.040000               1.710000   \n",
              "25%     250.750000    2488.250000            3.510000              22.785000   \n",
              "50%    4116.000000   30991.500000            4.850000              35.680000   \n",
              "75%    5346.000000   79706.250000            6.297500              48.945000   \n",
              "max    9966.000000  284394.000000            7.180000              57.450000   \n",
              "\n",
              "       Deaths / 100 Recovered  No. of countries  \n",
              "count              188.000000        188.000000  \n",
              "mean                22.104521        144.351064  \n",
              "std                 22.568307         65.175979  \n",
              "min                  6.260000          6.000000  \n",
              "25%                  9.650000        101.250000  \n",
              "50%                 15.380000        184.000000  \n",
              "75%                 25.342500        187.000000  \n",
              "max                134.430000        187.000000  "
            ],
            "text/html": [
              "\n",
              "  <div id=\"df-1dcf247d-d05f-4405-aeb9-76f9f500eadc\">\n",
              "    <div class=\"colab-df-container\">\n",
              "      <div>\n",
              "<style scoped>\n",
              "    .dataframe tbody tr th:only-of-type {\n",
              "        vertical-align: middle;\n",
              "    }\n",
              "\n",
              "    .dataframe tbody tr th {\n",
              "        vertical-align: top;\n",
              "    }\n",
              "\n",
              "    .dataframe thead th {\n",
              "        text-align: right;\n",
              "    }\n",
              "</style>\n",
              "<table border=\"1\" class=\"dataframe\">\n",
              "  <thead>\n",
              "    <tr style=\"text-align: right;\">\n",
              "      <th></th>\n",
              "      <th>Confirmed</th>\n",
              "      <th>Deaths</th>\n",
              "      <th>Recovered</th>\n",
              "      <th>Active</th>\n",
              "      <th>New cases</th>\n",
              "      <th>New deaths</th>\n",
              "      <th>New recovered</th>\n",
              "      <th>Deaths / 100 Cases</th>\n",
              "      <th>Recovered / 100 Cases</th>\n",
              "      <th>Deaths / 100 Recovered</th>\n",
              "      <th>No. of countries</th>\n",
              "    </tr>\n",
              "  </thead>\n",
              "  <tbody>\n",
              "    <tr>\n",
              "      <th>count</th>\n",
              "      <td>1.880000e+02</td>\n",
              "      <td>188.000000</td>\n",
              "      <td>1.880000e+02</td>\n",
              "      <td>1.880000e+02</td>\n",
              "      <td>188.000000</td>\n",
              "      <td>188.000000</td>\n",
              "      <td>188.000000</td>\n",
              "      <td>188.000000</td>\n",
              "      <td>188.000000</td>\n",
              "      <td>188.000000</td>\n",
              "      <td>188.000000</td>\n",
              "    </tr>\n",
              "    <tr>\n",
              "      <th>mean</th>\n",
              "      <td>4.406960e+06</td>\n",
              "      <td>230770.760638</td>\n",
              "      <td>2.066001e+06</td>\n",
              "      <td>2.110188e+06</td>\n",
              "      <td>87771.021277</td>\n",
              "      <td>3478.824468</td>\n",
              "      <td>50362.015957</td>\n",
              "      <td>4.860638</td>\n",
              "      <td>34.343936</td>\n",
              "      <td>22.104521</td>\n",
              "      <td>144.351064</td>\n",
              "    </tr>\n",
              "    <tr>\n",
              "      <th>std</th>\n",
              "      <td>4.757988e+06</td>\n",
              "      <td>217929.094183</td>\n",
              "      <td>2.627976e+06</td>\n",
              "      <td>1.969670e+06</td>\n",
              "      <td>75295.293255</td>\n",
              "      <td>2537.735652</td>\n",
              "      <td>56090.892479</td>\n",
              "      <td>1.579541</td>\n",
              "      <td>16.206159</td>\n",
              "      <td>22.568307</td>\n",
              "      <td>65.175979</td>\n",
              "    </tr>\n",
              "    <tr>\n",
              "      <th>min</th>\n",
              "      <td>5.550000e+02</td>\n",
              "      <td>17.000000</td>\n",
              "      <td>2.800000e+01</td>\n",
              "      <td>5.100000e+02</td>\n",
              "      <td>0.000000</td>\n",
              "      <td>0.000000</td>\n",
              "      <td>0.000000</td>\n",
              "      <td>2.040000</td>\n",
              "      <td>1.710000</td>\n",
              "      <td>6.260000</td>\n",
              "      <td>6.000000</td>\n",
              "    </tr>\n",
              "    <tr>\n",
              "      <th>25%</th>\n",
              "      <td>1.121910e+05</td>\n",
              "      <td>3935.000000</td>\n",
              "      <td>6.044125e+04</td>\n",
              "      <td>5.864175e+04</td>\n",
              "      <td>5568.500000</td>\n",
              "      <td>250.750000</td>\n",
              "      <td>2488.250000</td>\n",
              "      <td>3.510000</td>\n",
              "      <td>22.785000</td>\n",
              "      <td>9.650000</td>\n",
              "      <td>101.250000</td>\n",
              "    </tr>\n",
              "    <tr>\n",
              "      <th>50%</th>\n",
              "      <td>2.848733e+06</td>\n",
              "      <td>204190.000000</td>\n",
              "      <td>7.847840e+05</td>\n",
              "      <td>1.859759e+06</td>\n",
              "      <td>81114.000000</td>\n",
              "      <td>4116.000000</td>\n",
              "      <td>30991.500000</td>\n",
              "      <td>4.850000</td>\n",
              "      <td>35.680000</td>\n",
              "      <td>15.380000</td>\n",
              "      <td>184.000000</td>\n",
              "    </tr>\n",
              "    <tr>\n",
              "      <th>75%</th>\n",
              "      <td>7.422046e+06</td>\n",
              "      <td>418634.500000</td>\n",
              "      <td>3.416396e+06</td>\n",
              "      <td>3.587015e+06</td>\n",
              "      <td>131502.500000</td>\n",
              "      <td>5346.000000</td>\n",
              "      <td>79706.250000</td>\n",
              "      <td>6.297500</td>\n",
              "      <td>48.945000</td>\n",
              "      <td>25.342500</td>\n",
              "      <td>187.000000</td>\n",
              "    </tr>\n",
              "    <tr>\n",
              "      <th>max</th>\n",
              "      <td>1.648048e+07</td>\n",
              "      <td>654036.000000</td>\n",
              "      <td>9.468087e+06</td>\n",
              "      <td>6.358362e+06</td>\n",
              "      <td>282756.000000</td>\n",
              "      <td>9966.000000</td>\n",
              "      <td>284394.000000</td>\n",
              "      <td>7.180000</td>\n",
              "      <td>57.450000</td>\n",
              "      <td>134.430000</td>\n",
              "      <td>187.000000</td>\n",
              "    </tr>\n",
              "  </tbody>\n",
              "</table>\n",
              "</div>\n",
              "      <button class=\"colab-df-convert\" onclick=\"convertToInteractive('df-1dcf247d-d05f-4405-aeb9-76f9f500eadc')\"\n",
              "              title=\"Convert this dataframe to an interactive table.\"\n",
              "              style=\"display:none;\">\n",
              "        \n",
              "  <svg xmlns=\"http://www.w3.org/2000/svg\" height=\"24px\"viewBox=\"0 0 24 24\"\n",
              "       width=\"24px\">\n",
              "    <path d=\"M0 0h24v24H0V0z\" fill=\"none\"/>\n",
              "    <path d=\"M18.56 5.44l.94 2.06.94-2.06 2.06-.94-2.06-.94-.94-2.06-.94 2.06-2.06.94zm-11 1L8.5 8.5l.94-2.06 2.06-.94-2.06-.94L8.5 2.5l-.94 2.06-2.06.94zm10 10l.94 2.06.94-2.06 2.06-.94-2.06-.94-.94-2.06-.94 2.06-2.06.94z\"/><path d=\"M17.41 7.96l-1.37-1.37c-.4-.4-.92-.59-1.43-.59-.52 0-1.04.2-1.43.59L10.3 9.45l-7.72 7.72c-.78.78-.78 2.05 0 2.83L4 21.41c.39.39.9.59 1.41.59.51 0 1.02-.2 1.41-.59l7.78-7.78 2.81-2.81c.8-.78.8-2.07 0-2.86zM5.41 20L4 18.59l7.72-7.72 1.47 1.35L5.41 20z\"/>\n",
              "  </svg>\n",
              "      </button>\n",
              "      \n",
              "  <style>\n",
              "    .colab-df-container {\n",
              "      display:flex;\n",
              "      flex-wrap:wrap;\n",
              "      gap: 12px;\n",
              "    }\n",
              "\n",
              "    .colab-df-convert {\n",
              "      background-color: #E8F0FE;\n",
              "      border: none;\n",
              "      border-radius: 50%;\n",
              "      cursor: pointer;\n",
              "      display: none;\n",
              "      fill: #1967D2;\n",
              "      height: 32px;\n",
              "      padding: 0 0 0 0;\n",
              "      width: 32px;\n",
              "    }\n",
              "\n",
              "    .colab-df-convert:hover {\n",
              "      background-color: #E2EBFA;\n",
              "      box-shadow: 0px 1px 2px rgba(60, 64, 67, 0.3), 0px 1px 3px 1px rgba(60, 64, 67, 0.15);\n",
              "      fill: #174EA6;\n",
              "    }\n",
              "\n",
              "    [theme=dark] .colab-df-convert {\n",
              "      background-color: #3B4455;\n",
              "      fill: #D2E3FC;\n",
              "    }\n",
              "\n",
              "    [theme=dark] .colab-df-convert:hover {\n",
              "      background-color: #434B5C;\n",
              "      box-shadow: 0px 1px 3px 1px rgba(0, 0, 0, 0.15);\n",
              "      filter: drop-shadow(0px 1px 2px rgba(0, 0, 0, 0.3));\n",
              "      fill: #FFFFFF;\n",
              "    }\n",
              "  </style>\n",
              "\n",
              "      <script>\n",
              "        const buttonEl =\n",
              "          document.querySelector('#df-1dcf247d-d05f-4405-aeb9-76f9f500eadc button.colab-df-convert');\n",
              "        buttonEl.style.display =\n",
              "          google.colab.kernel.accessAllowed ? 'block' : 'none';\n",
              "\n",
              "        async function convertToInteractive(key) {\n",
              "          const element = document.querySelector('#df-1dcf247d-d05f-4405-aeb9-76f9f500eadc');\n",
              "          const dataTable =\n",
              "            await google.colab.kernel.invokeFunction('convertToInteractive',\n",
              "                                                     [key], {});\n",
              "          if (!dataTable) return;\n",
              "\n",
              "          const docLinkHtml = 'Like what you see? Visit the ' +\n",
              "            '<a target=\"_blank\" href=https://colab.research.google.com/notebooks/data_table.ipynb>data table notebook</a>'\n",
              "            + ' to learn more about interactive tables.';\n",
              "          element.innerHTML = '';\n",
              "          dataTable['output_type'] = 'display_data';\n",
              "          await google.colab.output.renderOutput(dataTable, element);\n",
              "          const docLink = document.createElement('div');\n",
              "          docLink.innerHTML = docLinkHtml;\n",
              "          element.appendChild(docLink);\n",
              "        }\n",
              "      </script>\n",
              "    </div>\n",
              "  </div>\n",
              "  "
            ]
          },
          "metadata": {},
          "execution_count": 4
        }
      ]
    },
    {
      "cell_type": "markdown",
      "metadata": {
        "id": "LiQ1ZjTcLvkc"
      },
      "source": [
        "### Memplot dataset\n",
        "---\n",
        "Berikut adalah apa yang terlihat seperti titik-titik data. Hasil plotting terlihat seperti fungsi logistik atau eksponensial. Pertumbuhannya mulai lambat, kemudian dari tahun 2005 ke depan, pertumbuhannya sangat signifikan. Dan akhirnya, sedikit melambat di tahun 2010-an."
      ]
    },
    {
      "cell_type": "code",
      "execution_count": 5,
      "metadata": {
        "id": "docvbMOiLvke",
        "outputId": "681daf1f-7b83-4afa-eb92-df3363e2e8f7",
        "colab": {
          "base_uri": "https://localhost:8080/",
          "height": 345
        }
      },
      "outputs": [
        {
          "output_type": "display_data",
          "data": {
            "text/plain": [
              "<Figure size 576x360 with 1 Axes>"
            ],
            "image/png": "[encoded data removed]"
          },
          "metadata": {
            "needs_background": "light"
          }
        }
      ],
      "source": [
        "plt.figure(figsize=(8,5))\n",
        "x_data, y_data = (df[\"Active\"].values, df[\"Recovered\"].values)\n",
        "plt.plot(x_data, y_data, 'ro')\n",
        "plt.ylabel('Recovered')\n",
        "plt.xlabel('Active')\n",
        "plt.show()"
      ]
    },
    {
      "cell_type": "markdown",
      "metadata": {
        "id": "BdO8YgxILvkg"
      },
      "source": [
        "### Pemilihan Model \n",
        "---\n",
        "\n",
        "Dari tampilan awal plot, kita dapat menentukan bahwa fungsi logistik bisa menjadi pendekatan yang baik,\n",
        "karena memiliki sifat mulai dengan pertumbuhan lambat, pertumbuhan meningkat di tengah, dan kemudian menurun lagi di akhir; seperti diilustrasikan di bawah ini:"
      ]
    },
    {
      "cell_type": "code",
      "execution_count": 6,
      "metadata": {
        "id": "aCJtHT5dLvkh",
        "outputId": "2833a21e-733f-40e7-d720-214a2ffd05c1",
        "colab": {
          "base_uri": "https://localhost:8080/",
          "height": 279
        }
      },
      "outputs": [
        {
          "output_type": "display_data",
          "data": {
            "text/plain": [
              "<Figure size 432x288 with 1 Axes>"
            ],
            "image/png": "[encoded data removed]"
          },
          "metadata": {
            "needs_background": "light"
          }
        }
      ],
      "source": [
        "X = np.arange(-5.0, 5.0, 0.1)\n",
        "Y = 1.0 / (1.0 + np.exp(-X))\n",
        "\n",
        "plt.plot(X,Y) \n",
        "plt.ylabel('Dependent Variable')\n",
        "plt.xlabel('Indepdendent Variable')\n",
        "plt.show()"
      ]
    },
    {
      "cell_type": "markdown",
      "metadata": {
        "id": "12IXRjwFLvkk"
      },
      "source": [
        "\n",
        "Rumus untuk fungsi logistik adalah sebagai berikut:\n",
        "\n",
        "$$ \\hat{Y} = \\frac1{1+e^{\\beta_1(X-\\beta_2)}}$$\n",
        "\n",
        "$\\beta_1$: Mengontrol kecuraman kurva,\n",
        "\n",
        "$\\beta_2$: Menggeser kurva pada sumbu x."
      ]
    },
    {
      "cell_type": "markdown",
      "metadata": {
        "id": "jreEgYzmLvkm"
      },
      "source": [
        "### Pembuatan Model \n",
        "---\n",
        "Model regresi dan inisialisasi parameternya dapat dibuat."
      ]
    },
    {
      "cell_type": "code",
      "execution_count": 7,
      "metadata": {
        "id": "xYh5M8evLvkm"
      },
      "outputs": [],
      "source": [
        "def sigmoid(x, Beta_1, Beta_2):\n",
        "     y = 1 / (1 + np.exp(-Beta_1*(x-Beta_2)))\n",
        "     return y"
      ]
    },
    {
      "cell_type": "markdown",
      "metadata": {
        "id": "wIVf-VIvLvkq"
      },
      "source": [
        "Contoh garis sigmoid yang mungkin cocok dengan data dapat dilihat:"
      ]
    },
    {
      "cell_type": "code",
      "execution_count": 62,
      "metadata": {
        "id": "IFMrb86MLvkr",
        "outputId": "000daee6-387b-452d-bbfe-fa77076e1f34",
        "colab": {
          "base_uri": "https://localhost:8080/",
          "height": 343
        }
      },
      "outputs": [
        {
          "output_type": "stream",
          "name": "stderr",
          "text": [
            "/usr/local/lib/python3.7/dist-packages/ipykernel_launcher.py:2: RuntimeWarning: overflow encountered in exp\n",
            "  \n"
          ]
        },
        {
          "output_type": "execute_result",
          "data": {
            "text/plain": [
              "[<matplotlib.lines.Line2D at 0x7f822f8ed990>]"
            ]
          },
          "metadata": {},
          "execution_count": 62
        },
        {
          "output_type": "display_data",
          "data": {
            "text/plain": [
              "<Figure size 432x288 with 1 Axes>"
            ],
            "image/png": "[encoded data removed]"
          },
          "metadata": {
            "needs_background": "light"
          }
        }
      ],
      "source": [
        "beta_1 = 0.9\n",
        "beta_2 = 63583\n",
        "#logistic function\n",
        "Y_pred = sigmoid(x_data, beta_1 , beta_2)\n",
        "\n",
        "#plot initial prediction against datapoints\n",
        "plt.plot(x_data, Y_pred*1500000.)\n",
        "plt.plot(x_data, y_data, 'ro')"
      ]
    },
    {
      "cell_type": "markdown",
      "metadata": {
        "id": "dOFGvvxELvku"
      },
      "source": [
        "Tugas yang harus dilakukan adalah menemukan parameter terbaik untuk model. Normalisasi x dan y diperlukan:"
      ]
    },
    {
      "cell_type": "code",
      "execution_count": 41,
      "metadata": {
        "id": "elXbplcnLvkv"
      },
      "outputs": [],
      "source": [
        "# Lets normalize our data\n",
        "xdata =x_data/max(x_data)\n",
        "ydata =y_data/max(y_data)"
      ]
    },
    {
      "cell_type": "markdown",
      "metadata": {
        "id": "_TgMh3aKLvkx"
      },
      "source": [
        "#### Bagaimana menemukan parameter terbaik untuk pencocokan kurva?\n",
        "\n",
        "\n",
        "__curve_fit__ yang menggunakan least square non-linear agar sesuai dengan fungsi sigmoid, terhadap data dapat digunakan. Nilai optimal untuk parameter sehingga jumlah residu kuadrat dari sigmoid(xdata, *popt) - ydata diminimalkan.\n",
        "\n",
        "popt adalah parameter yang dioptimalkan."
      ]
    },
    {
      "cell_type": "code",
      "execution_count": 42,
      "metadata": {
        "id": "eztuhwjELvkz",
        "outputId": "504e028e-fbce-401f-d5ed-2a6af2005784",
        "colab": {
          "base_uri": "https://localhost:8080/"
        }
      },
      "outputs": [
        {
          "output_type": "stream",
          "name": "stdout",
          "text": [
            " beta_1 = 6.598248, beta_2 = 0.662739\n"
          ]
        }
      ],
      "source": [
        "from scipy.optimize import curve_fit\n",
        "popt, pcov = curve_fit(sigmoid, xdata, ydata)\n",
        "#print the final parameters\n",
        "print(\" beta_1 = %f, beta_2 = %f\" % (popt[0], popt[1]))"
      ]
    },
    {
      "cell_type": "markdown",
      "metadata": {
        "id": "sAmsc13iLvk1"
      },
      "source": [
        "Hasil model regressi dapat diplot:"
      ]
    },
    {
      "cell_type": "code",
      "execution_count": 63,
      "metadata": {
        "id": "kK1T5F4jLvk2",
        "outputId": "e2a303e9-0754-44dd-8ef6-9b4b233cce5c",
        "colab": {
          "base_uri": "https://localhost:8080/",
          "height": 334
        }
      },
      "outputs": [
        {
          "output_type": "display_data",
          "data": {
            "text/plain": [
              "<Figure size 576x360 with 1 Axes>"
            ],
            "image/png": "[encoded data removed]"
          },
          "metadata": {
            "needs_background": "light"
          }
        }
      ],
      "source": [
        "x = np.linspace(510, 6358362 , 55)\n",
        "x = x/max(x)\n",
        "plt.figure(figsize=(8,5))\n",
        "y = sigmoid(x, *popt)\n",
        "plt.plot(xdata, ydata, 'ro', label='data')\n",
        "plt.plot(x,y, linewidth=3.0, label='fit')\n",
        "plt.legend(loc='best')\n",
        "plt.ylabel('Recovered')\n",
        "plt.xlabel('Active')\n",
        "plt.show()"
      ]
    }
  ]
}