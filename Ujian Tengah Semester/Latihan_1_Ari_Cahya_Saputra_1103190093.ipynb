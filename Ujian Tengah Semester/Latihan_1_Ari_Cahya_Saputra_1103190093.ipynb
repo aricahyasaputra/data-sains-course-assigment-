{
  "nbformat": 4,
  "nbformat_minor": 0,
  "metadata": {
    "colab": {
      "name": "Latihan 1 Ari Cahya Saputra 1103190093.ipynb",
      "provenance": [],
      "collapsed_sections": [],
      "authorship_tag": "ABX9TyOuLsCDTS6MLmjwlX2RwBve",
      "include_colab_link": true
    },
    "kernelspec": {
      "name": "python3",
      "display_name": "Python 3"
    },
    "language_info": {
      "name": "python"
    }
  },
  "cells": [
    {
      "cell_type": "markdown",
      "metadata": {
        "id": "view-in-github",
        "colab_type": "text"
      },
      "source": [
        "<a href=\"https://colab.research.google.com/github/aricahyasaputra/data-sains-course-assigment-/blob/main/Ujian%20Tengah%20Semester/Latihan_1_Ari_Cahya_Saputra_1103190093.ipynb\" target=\"_parent\"><img src=\"https://colab.research.google.com/assets/colab-badge.svg\" alt=\"Open In Colab\"/></a>"
      ]
    },
    {
      "cell_type": "markdown",
      "metadata": {
        "id": "aiqa0p62W68i"
      },
      "source": [
        "# Latihan (1)\n",
        "Buatlah matriksC dengan orde 2x3, dan nilai yang diberikan pada matriksC adalah sebagai berikut:\n",
        "Baris 1 Kolom 1, nilai = 1\n",
        "Baris 1 Kolom 2, nilai = 2\n",
        "Baris 1 Kolom 3, nilai = 3\n",
        "Baris 2 Kolom 1, nilai = 4\n",
        "Baris 2 Kolom 2, nilai = 5\n",
        "Baris 2 Kolom 3, nilai = 6"
      ]
    },
    {
      "cell_type": "code",
      "execution_count": null,
      "metadata": {
        "id": "lL184uYyW68j",
        "colab": {
          "base_uri": "https://localhost:8080/"
        },
        "outputId": "d912d049-c402-48d2-d3db-6e3362053d1d"
      },
      "outputs": [
        {
          "output_type": "stream",
          "name": "stdout",
          "text": [
            "[[1, 2, 3], [4, 5, 6]]\n"
          ]
        }
      ],
      "source": [
        "#Latihan(1)\n",
        "#Matriks dengan ukuran 2x3\n",
        "matriksC = [ [1,2,3],[4,5,6]]\n",
        "\n",
        "#Menampilkan matriks dengan nama MatriksC\n",
        "print(matriksC)"
      ]
    },
    {
      "cell_type": "markdown",
      "metadata": {
        "id": "-IGbdaYcW68m"
      },
      "source": [
        "# Latihan (2)\n",
        "Buatlah matriks dengan orde 3x2, dengan nilai adalah:\n",
        "Baris 1 Kolom 1, nilai = 2\n",
        "Baris 1 Kolom 2, nilai = 2\n",
        "Baris 2 Kolom 1, nilai = 2\n",
        "Baris 2 Kolom 2, nilai = 2\n",
        "Baris 3 Kolom 1, nilai = 2\n",
        "Baris 3 Kolom 2, nilai = 2"
      ]
    },
    {
      "cell_type": "code",
      "execution_count": null,
      "metadata": {
        "id": "a93f3khaW68m",
        "colab": {
          "base_uri": "https://localhost:8080/"
        },
        "outputId": "8e209aba-f4ea-4bdf-8584-2a437698cf6e"
      },
      "outputs": [
        {
          "output_type": "stream",
          "name": "stdout",
          "text": [
            "[[2, 2], [2, 2], [2, 2]]\n"
          ]
        }
      ],
      "source": [
        "#Latihan(2)\n",
        "#Matriks dengan menggunakan fungsi perulangan\n",
        "m = 3\n",
        "n = 2 \n",
        "x = [0]*m\n",
        "#Fungsi perulangan dengan menggunakan for\n",
        "for i in range(m): \n",
        "    x[i] = [2]*n \n",
        "#Menampilkan matriks\n",
        "print(x)"
      ]
    },
    {
      "cell_type": "markdown",
      "metadata": {
        "id": "JejqZyKYW68o"
      },
      "source": [
        "# Latihan (3)\n",
        "Buatlah matriks dengan menggunakan Library Numpy dengan panjang elemen adalah 32 dan matriks memiliki orde 4x8"
      ]
    },
    {
      "cell_type": "code",
      "execution_count": null,
      "metadata": {
        "id": "Kn_cBkt1W68o",
        "colab": {
          "base_uri": "https://localhost:8080/"
        },
        "outputId": "b28603b9-ea62-4a8e-e61e-de6c1af79949"
      },
      "outputs": [
        {
          "output_type": "stream",
          "name": "stdout",
          "text": [
            "[[ 0  1  2  3  4  5  6  7]\n",
            " [ 8  9 10 11 12 13 14 15]\n",
            " [16 17 18 19 20 21 22 23]\n",
            " [24 25 26 27 28 29 30 31]]\n"
          ]
        }
      ],
      "source": [
        "#Latihan(3)\n",
        "#Panggil Library Numpy\n",
        "from numpy import * \n",
        "\n",
        "#Menentukan panjang elemen sebanyak 32\n",
        "matriks = range(32) \n",
        "\n",
        "#Matriks orde adalah 4x8\n",
        "matriks = reshape(matriks,(4,8)) \n",
        "#Menampilkan matriks\n",
        "print(matriks)"
      ]
    },
    {
      "cell_type": "markdown",
      "metadata": {
        "id": "4LkusNTCW68p"
      },
      "source": [
        "# Latihan (4)\n",
        "Buatlah matriks dengan menggunakan Library Numpy dengan orde 3x30, dan nilai elemen dimulai dari indeks 1 sampai dengan 5 secara random."
      ]
    },
    {
      "cell_type": "code",
      "execution_count": null,
      "metadata": {
        "id": "-WLMhMrOW68q",
        "colab": {
          "base_uri": "https://localhost:8080/"
        },
        "outputId": "bd151910-3640-4b1a-cc89-f6ff4ca405d5"
      },
      "outputs": [
        {
          "output_type": "stream",
          "name": "stdout",
          "text": [
            "[[3 3 3 2 2 3 1 2 4 1 4 2 4 4 1 1 2 1 1 2 2 4 2 3 1 4 3 4 1 1]\n",
            " [2 4 2 3 2 1 1 4 1 1 2 4 1 2 3 2 4 2 3 4 3 4 1 2 4 4 1 2 3 2]\n",
            " [3 3 4 2 4 1 2 1 2 4 2 2 4 1 1 3 2 2 2 2 3 1 1 1 1 2 2 1 1 2]]\n"
          ]
        }
      ],
      "source": [
        "#Latihan(4)\n",
        "#Memanggil Library numpy dan diberikan nama alias np\n",
        "import numpy as np\n",
        "\n",
        "#Membuat matriks ukuran 3x30 dengan random\n",
        "matriks = np.random.randint(1,5,(3,30))\n",
        "\n",
        "#Menampilkan matriks\n",
        "print(matriks)"
      ]
    },
    {
      "cell_type": "markdown",
      "metadata": {
        "id": "B6D5_vqdW68s"
      },
      "source": [
        "# Latihan (5)\n",
        "\n",
        "Buatlah penjumlahan dua matriks dengan menggunakan library Numpy, dengan matriks berukuran 7x9 yang nilainya didapatkan secara random."
      ]
    },
    {
      "cell_type": "code",
      "execution_count": null,
      "metadata": {
        "id": "i7NNcS6IW68s",
        "colab": {
          "base_uri": "https://localhost:8080/"
        },
        "outputId": "4be20456-bb0a-4891-d0a0-ddf0e97e4d6f"
      },
      "outputs": [
        {
          "output_type": "stream",
          "name": "stdout",
          "text": [
            "[[0 0 8 4 7 3 8 2 1]\n",
            " [2 7 6 3 1 2 3 8 2]\n",
            " [7 6 6 7 0 6 2 8 8]\n",
            " [1 0 5 1 0 1 6 4 0]\n",
            " [4 0 8 8 1 8 7 5 3]\n",
            " [1 3 1 6 7 7 4 7 5]\n",
            " [3 8 5 1 5 6 2 2 4]]\n",
            "\n",
            "[[6 1 6 7 3 2 3 6 4]\n",
            " [7 7 3 4 3 4 1 7 5]\n",
            " [5 7 3 1 2 3 3 0 1]\n",
            " [2 7 1 1 5 0 1 5 4]\n",
            " [0 6 3 4 8 4 4 8 5]\n",
            " [1 6 1 5 2 0 4 1 0]\n",
            " [4 1 7 3 5 8 4 8 3]]\n",
            "\n",
            "\n",
            "6 1 14 11 10 5 11 8 5 \n",
            "\n",
            "9 14 9 7 4 6 4 15 7 \n",
            "\n",
            "12 13 9 8 2 9 5 8 9 \n",
            "\n",
            "3 7 6 2 5 1 7 9 4 \n",
            "\n",
            "4 6 11 12 9 12 11 13 8 \n",
            "\n",
            "2 9 2 11 9 7 8 8 5 \n",
            "\n",
            "7 9 12 4 10 14 6 10 7 \n"
          ]
        }
      ],
      "source": [
        "#Latihan(5)\n",
        "#Penjumlahan Matriks\n",
        "import numpy as np\n",
        "matriksA = np.random.randint(0, 9,(7, 9))\n",
        "matriksB = np.random.randint(0, 9,(7, 9))\n",
        "print (matriksA)\n",
        "print () #memberikan spasi baris pada matriks yang tercetak\n",
        "print (matriksB)\n",
        "print ()\n",
        "\n",
        "#penjumlahan matriksA dan matriks B\n",
        "for x in range(0, len(matriksA)):\n",
        "    print ()\n",
        "    for y in range(0, len(matriksA[0])):\n",
        "        print (matriksA[x][y] + matriksB[x][y], end=' '),\n",
        "    print ()"
      ]
    },
    {
      "cell_type": "markdown",
      "metadata": {
        "id": "UtdLAwL1W68u"
      },
      "source": [
        "# Latihan (6)\n",
        "\n",
        "Buatlah pengurangan dua matriks dengan menggunakan library Numpy, dengan matriks berukuran 7x9 yang nilainya didapatkan secara random."
      ]
    },
    {
      "cell_type": "code",
      "execution_count": null,
      "metadata": {
        "id": "B-jJnUE-W68u",
        "colab": {
          "base_uri": "https://localhost:8080/"
        },
        "outputId": "5180a2fd-73de-4384-defb-a059cac84314"
      },
      "outputs": [
        {
          "output_type": "stream",
          "name": "stdout",
          "text": [
            "[[5 6 7 8 3 7 4 7 1]\n",
            " [0 6 7 7 4 5 6 7 1]\n",
            " [5 7 3 7 4 4 6 2 5]\n",
            " [7 1 1 0 8 2 1 7 1]\n",
            " [6 1 1 8 2 6 7 8 7]\n",
            " [7 6 1 6 5 1 4 3 6]\n",
            " [4 2 3 2 1 0 8 0 6]]\n",
            "\n",
            "[[3 0 4 3 4 1 5 1 4]\n",
            " [0 3 2 7 4 2 0 8 6]\n",
            " [7 3 7 0 0 1 8 2 0]\n",
            " [5 3 5 5 8 2 7 0 3]\n",
            " [6 2 6 5 5 5 4 2 4]\n",
            " [5 7 2 1 0 4 2 2 7]\n",
            " [8 7 3 8 5 8 6 6 1]]\n",
            "\n",
            "\n",
            "2 6 3 5 -1 6 -1 6 -3 \n",
            "\n",
            "0 3 5 0 0 3 6 -1 -5 \n",
            "\n",
            "-2 4 -4 7 4 3 -2 0 5 \n",
            "\n",
            "2 -2 -4 -5 0 0 -6 7 -2 \n",
            "\n",
            "0 -1 -5 3 -3 1 3 6 3 \n",
            "\n",
            "2 -1 -1 5 5 -3 2 1 -1 \n",
            "\n",
            "-4 -5 0 -6 -4 -8 2 -6 5 \n"
          ]
        }
      ],
      "source": [
        "#Latihan(6)\n",
        "#Pengurangan Matriks\n",
        "import numpy as np\n",
        "matriksA = np.random.randint(0, 9,(7, 9))\n",
        "matriksB = np.random.randint(0, 9,(7, 9))\n",
        "print (matriksA)\n",
        "print () #memberikan spasi baris pada matriks yang tercetak\n",
        "print (matriksB)\n",
        "print ()\n",
        "\n",
        "#pengurangan matriksA dengan matriks B\n",
        "for x in range(0, len(matriksA)):\n",
        "    print ()\n",
        "    for y in range(0, len(matriksA[0])):\n",
        "        print (matriksA[x][y] - matriksB[x][y], end=' '),\n",
        "    print ()"
      ]
    },
    {
      "cell_type": "markdown",
      "metadata": {
        "id": "ca1lebPgW68v"
      },
      "source": [
        "# Latihan (7)\n",
        "\n",
        "Lakukan import Library Pandas"
      ]
    },
    {
      "cell_type": "code",
      "execution_count": null,
      "metadata": {
        "id": "MlEuXLkPW68v"
      },
      "outputs": [],
      "source": [
        "#Latihan(7)\n",
        "#Import Library Pandas\n",
        "\n",
        "import pandas as pd"
      ]
    },
    {
      "cell_type": "markdown",
      "metadata": {
        "id": "ZdgyYeb7W68v"
      },
      "source": [
        "# Latihan (8)\n",
        "\n",
        "Panggil file dengan format .csv yang bernama \"heart\""
      ]
    },
    {
      "cell_type": "code",
      "execution_count": null,
      "metadata": {
        "id": "yql7KuMIW68v"
      },
      "outputs": [],
      "source": [
        "#latihan(8)\n",
        "#Panggil file bernama heart.csv\n",
        "\n",
        "df = pd.read_csv(\"https://raw.githubusercontent.com/aricahyasaputra/data-sains-course-assigment-/main/Ujian%20Tengah%20Semester/heart.csv\")"
      ]
    },
    {
      "cell_type": "markdown",
      "metadata": {
        "id": "0B57GprcW68w"
      },
      "source": [
        "# Latihan (9)\n",
        "\n",
        "Tampilkan data dari \"heart\" "
      ]
    },
    {
      "cell_type": "code",
      "execution_count": null,
      "metadata": {
        "id": "QhRqIhn4W68w",
        "colab": {
          "base_uri": "https://localhost:8080/",
          "height": 424
        },
        "outputId": "9c948e0b-791f-4c83-8388-9a0339782d25"
      },
      "outputs": [
        {
          "output_type": "execute_result",
          "data": {
            "text/plain": [
              "     age  sex  cp  trtbps  chol  fbs  restecg  thalachh  exng  oldpeak  slp  \\\n",
              "0     63    1   3     145   233    1        0       150     0      2.3    0   \n",
              "1     37    1   2     130   250    0        1       187     0      3.5    0   \n",
              "2     41    0   1     130   204    0        0       172     0      1.4    2   \n",
              "3     56    1   1     120   236    0        1       178     0      0.8    2   \n",
              "4     57    0   0     120   354    0        1       163     1      0.6    2   \n",
              "..   ...  ...  ..     ...   ...  ...      ...       ...   ...      ...  ...   \n",
              "298   57    0   0     140   241    0        1       123     1      0.2    1   \n",
              "299   45    1   3     110   264    0        1       132     0      1.2    1   \n",
              "300   68    1   0     144   193    1        1       141     0      3.4    1   \n",
              "301   57    1   0     130   131    0        1       115     1      1.2    1   \n",
              "302   57    0   1     130   236    0        0       174     0      0.0    1   \n",
              "\n",
              "     caa  thall  output  \n",
              "0      0      1       1  \n",
              "1      0      2       1  \n",
              "2      0      2       1  \n",
              "3      0      2       1  \n",
              "4      0      2       1  \n",
              "..   ...    ...     ...  \n",
              "298    0      3       0  \n",
              "299    0      3       0  \n",
              "300    2      3       0  \n",
              "301    1      3       0  \n",
              "302    1      2       0  \n",
              "\n",
              "[303 rows x 14 columns]"
            ],
            "text/html": [
              "\n",
              "  <div id=\"df-f5f34093-f032-48c3-b162-98916d0d1b02\">\n",
              "    <div class=\"colab-df-container\">\n",
              "      <div>\n",
              "<style scoped>\n",
              "    .dataframe tbody tr th:only-of-type {\n",
              "        vertical-align: middle;\n",
              "    }\n",
              "\n",
              "    .dataframe tbody tr th {\n",
              "        vertical-align: top;\n",
              "    }\n",
              "\n",
              "    .dataframe thead th {\n",
              "        text-align: right;\n",
              "    }\n",
              "</style>\n",
              "<table border=\"1\" class=\"dataframe\">\n",
              "  <thead>\n",
              "    <tr style=\"text-align: right;\">\n",
              "      <th></th>\n",
              "      <th>age</th>\n",
              "      <th>sex</th>\n",
              "      <th>cp</th>\n",
              "      <th>trtbps</th>\n",
              "      <th>chol</th>\n",
              "      <th>fbs</th>\n",
              "      <th>restecg</th>\n",
              "      <th>thalachh</th>\n",
              "      <th>exng</th>\n",
              "      <th>oldpeak</th>\n",
              "      <th>slp</th>\n",
              "      <th>caa</th>\n",
              "      <th>thall</th>\n",
              "      <th>output</th>\n",
              "    </tr>\n",
              "  </thead>\n",
              "  <tbody>\n",
              "    <tr>\n",
              "      <th>0</th>\n",
              "      <td>63</td>\n",
              "      <td>1</td>\n",
              "      <td>3</td>\n",
              "      <td>145</td>\n",
              "      <td>233</td>\n",
              "      <td>1</td>\n",
              "      <td>0</td>\n",
              "      <td>150</td>\n",
              "      <td>0</td>\n",
              "      <td>2.3</td>\n",
              "      <td>0</td>\n",
              "      <td>0</td>\n",
              "      <td>1</td>\n",
              "      <td>1</td>\n",
              "    </tr>\n",
              "    <tr>\n",
              "      <th>1</th>\n",
              "      <td>37</td>\n",
              "      <td>1</td>\n",
              "      <td>2</td>\n",
              "      <td>130</td>\n",
              "      <td>250</td>\n",
              "      <td>0</td>\n",
              "      <td>1</td>\n",
              "      <td>187</td>\n",
              "      <td>0</td>\n",
              "      <td>3.5</td>\n",
              "      <td>0</td>\n",
              "      <td>0</td>\n",
              "      <td>2</td>\n",
              "      <td>1</td>\n",
              "    </tr>\n",
              "    <tr>\n",
              "      <th>2</th>\n",
              "      <td>41</td>\n",
              "      <td>0</td>\n",
              "      <td>1</td>\n",
              "      <td>130</td>\n",
              "      <td>204</td>\n",
              "      <td>0</td>\n",
              "      <td>0</td>\n",
              "      <td>172</td>\n",
              "      <td>0</td>\n",
              "      <td>1.4</td>\n",
              "      <td>2</td>\n",
              "      <td>0</td>\n",
              "      <td>2</td>\n",
              "      <td>1</td>\n",
              "    </tr>\n",
              "    <tr>\n",
              "      <th>3</th>\n",
              "      <td>56</td>\n",
              "      <td>1</td>\n",
              "      <td>1</td>\n",
              "      <td>120</td>\n",
              "      <td>236</td>\n",
              "      <td>0</td>\n",
              "      <td>1</td>\n",
              "      <td>178</td>\n",
              "      <td>0</td>\n",
              "      <td>0.8</td>\n",
              "      <td>2</td>\n",
              "      <td>0</td>\n",
              "      <td>2</td>\n",
              "      <td>1</td>\n",
              "    </tr>\n",
              "    <tr>\n",
              "      <th>4</th>\n",
              "      <td>57</td>\n",
              "      <td>0</td>\n",
              "      <td>0</td>\n",
              "      <td>120</td>\n",
              "      <td>354</td>\n",
              "      <td>0</td>\n",
              "      <td>1</td>\n",
              "      <td>163</td>\n",
              "      <td>1</td>\n",
              "      <td>0.6</td>\n",
              "      <td>2</td>\n",
              "      <td>0</td>\n",
              "      <td>2</td>\n",
              "      <td>1</td>\n",
              "    </tr>\n",
              "    <tr>\n",
              "      <th>...</th>\n",
              "      <td>...</td>\n",
              "      <td>...</td>\n",
              "      <td>...</td>\n",
              "      <td>...</td>\n",
              "      <td>...</td>\n",
              "      <td>...</td>\n",
              "      <td>...</td>\n",
              "      <td>...</td>\n",
              "      <td>...</td>\n",
              "      <td>...</td>\n",
              "      <td>...</td>\n",
              "      <td>...</td>\n",
              "      <td>...</td>\n",
              "      <td>...</td>\n",
              "    </tr>\n",
              "    <tr>\n",
              "      <th>298</th>\n",
              "      <td>57</td>\n",
              "      <td>0</td>\n",
              "      <td>0</td>\n",
              "      <td>140</td>\n",
              "      <td>241</td>\n",
              "      <td>0</td>\n",
              "      <td>1</td>\n",
              "      <td>123</td>\n",
              "      <td>1</td>\n",
              "      <td>0.2</td>\n",
              "      <td>1</td>\n",
              "      <td>0</td>\n",
              "      <td>3</td>\n",
              "      <td>0</td>\n",
              "    </tr>\n",
              "    <tr>\n",
              "      <th>299</th>\n",
              "      <td>45</td>\n",
              "      <td>1</td>\n",
              "      <td>3</td>\n",
              "      <td>110</td>\n",
              "      <td>264</td>\n",
              "      <td>0</td>\n",
              "      <td>1</td>\n",
              "      <td>132</td>\n",
              "      <td>0</td>\n",
              "      <td>1.2</td>\n",
              "      <td>1</td>\n",
              "      <td>0</td>\n",
              "      <td>3</td>\n",
              "      <td>0</td>\n",
              "    </tr>\n",
              "    <tr>\n",
              "      <th>300</th>\n",
              "      <td>68</td>\n",
              "      <td>1</td>\n",
              "      <td>0</td>\n",
              "      <td>144</td>\n",
              "      <td>193</td>\n",
              "      <td>1</td>\n",
              "      <td>1</td>\n",
              "      <td>141</td>\n",
              "      <td>0</td>\n",
              "      <td>3.4</td>\n",
              "      <td>1</td>\n",
              "      <td>2</td>\n",
              "      <td>3</td>\n",
              "      <td>0</td>\n",
              "    </tr>\n",
              "    <tr>\n",
              "      <th>301</th>\n",
              "      <td>57</td>\n",
              "      <td>1</td>\n",
              "      <td>0</td>\n",
              "      <td>130</td>\n",
              "      <td>131</td>\n",
              "      <td>0</td>\n",
              "      <td>1</td>\n",
              "      <td>115</td>\n",
              "      <td>1</td>\n",
              "      <td>1.2</td>\n",
              "      <td>1</td>\n",
              "      <td>1</td>\n",
              "      <td>3</td>\n",
              "      <td>0</td>\n",
              "    </tr>\n",
              "    <tr>\n",
              "      <th>302</th>\n",
              "      <td>57</td>\n",
              "      <td>0</td>\n",
              "      <td>1</td>\n",
              "      <td>130</td>\n",
              "      <td>236</td>\n",
              "      <td>0</td>\n",
              "      <td>0</td>\n",
              "      <td>174</td>\n",
              "      <td>0</td>\n",
              "      <td>0.0</td>\n",
              "      <td>1</td>\n",
              "      <td>1</td>\n",
              "      <td>2</td>\n",
              "      <td>0</td>\n",
              "    </tr>\n",
              "  </tbody>\n",
              "</table>\n",
              "<p>303 rows × 14 columns</p>\n",
              "</div>\n",
              "      <button class=\"colab-df-convert\" onclick=\"convertToInteractive('df-f5f34093-f032-48c3-b162-98916d0d1b02')\"\n",
              "              title=\"Convert this dataframe to an interactive table.\"\n",
              "              style=\"display:none;\">\n",
              "        \n",
              "  <svg xmlns=\"http://www.w3.org/2000/svg\" height=\"24px\"viewBox=\"0 0 24 24\"\n",
              "       width=\"24px\">\n",
              "    <path d=\"M0 0h24v24H0V0z\" fill=\"none\"/>\n",
              "    <path d=\"M18.56 5.44l.94 2.06.94-2.06 2.06-.94-2.06-.94-.94-2.06-.94 2.06-2.06.94zm-11 1L8.5 8.5l.94-2.06 2.06-.94-2.06-.94L8.5 2.5l-.94 2.06-2.06.94zm10 10l.94 2.06.94-2.06 2.06-.94-2.06-.94-.94-2.06-.94 2.06-2.06.94z\"/><path d=\"M17.41 7.96l-1.37-1.37c-.4-.4-.92-.59-1.43-.59-.52 0-1.04.2-1.43.59L10.3 9.45l-7.72 7.72c-.78.78-.78 2.05 0 2.83L4 21.41c.39.39.9.59 1.41.59.51 0 1.02-.2 1.41-.59l7.78-7.78 2.81-2.81c.8-.78.8-2.07 0-2.86zM5.41 20L4 18.59l7.72-7.72 1.47 1.35L5.41 20z\"/>\n",
              "  </svg>\n",
              "      </button>\n",
              "      \n",
              "  <style>\n",
              "    .colab-df-container {\n",
              "      display:flex;\n",
              "      flex-wrap:wrap;\n",
              "      gap: 12px;\n",
              "    }\n",
              "\n",
              "    .colab-df-convert {\n",
              "      background-color: #E8F0FE;\n",
              "      border: none;\n",
              "      border-radius: 50%;\n",
              "      cursor: pointer;\n",
              "      display: none;\n",
              "      fill: #1967D2;\n",
              "      height: 32px;\n",
              "      padding: 0 0 0 0;\n",
              "      width: 32px;\n",
              "    }\n",
              "\n",
              "    .colab-df-convert:hover {\n",
              "      background-color: #E2EBFA;\n",
              "      box-shadow: 0px 1px 2px rgba(60, 64, 67, 0.3), 0px 1px 3px 1px rgba(60, 64, 67, 0.15);\n",
              "      fill: #174EA6;\n",
              "    }\n",
              "\n",
              "    [theme=dark] .colab-df-convert {\n",
              "      background-color: #3B4455;\n",
              "      fill: #D2E3FC;\n",
              "    }\n",
              "\n",
              "    [theme=dark] .colab-df-convert:hover {\n",
              "      background-color: #434B5C;\n",
              "      box-shadow: 0px 1px 3px 1px rgba(0, 0, 0, 0.15);\n",
              "      filter: drop-shadow(0px 1px 2px rgba(0, 0, 0, 0.3));\n",
              "      fill: #FFFFFF;\n",
              "    }\n",
              "  </style>\n",
              "\n",
              "      <script>\n",
              "        const buttonEl =\n",
              "          document.querySelector('#df-f5f34093-f032-48c3-b162-98916d0d1b02 button.colab-df-convert');\n",
              "        buttonEl.style.display =\n",
              "          google.colab.kernel.accessAllowed ? 'block' : 'none';\n",
              "\n",
              "        async function convertToInteractive(key) {\n",
              "          const element = document.querySelector('#df-f5f34093-f032-48c3-b162-98916d0d1b02');\n",
              "          const dataTable =\n",
              "            await google.colab.kernel.invokeFunction('convertToInteractive',\n",
              "                                                     [key], {});\n",
              "          if (!dataTable) return;\n",
              "\n",
              "          const docLinkHtml = 'Like what you see? Visit the ' +\n",
              "            '<a target=\"_blank\" href=https://colab.research.google.com/notebooks/data_table.ipynb>data table notebook</a>'\n",
              "            + ' to learn more about interactive tables.';\n",
              "          element.innerHTML = '';\n",
              "          dataTable['output_type'] = 'display_data';\n",
              "          await google.colab.output.renderOutput(dataTable, element);\n",
              "          const docLink = document.createElement('div');\n",
              "          docLink.innerHTML = docLinkHtml;\n",
              "          element.appendChild(docLink);\n",
              "        }\n",
              "      </script>\n",
              "    </div>\n",
              "  </div>\n",
              "  "
            ]
          },
          "metadata": {},
          "execution_count": 13
        }
      ],
      "source": [
        "#latihan(9)\n",
        "#Tampilkan data dari dataset heart\n",
        "\n",
        "df"
      ]
    },
    {
      "cell_type": "markdown",
      "metadata": {
        "id": "LqwrdpddW68w"
      },
      "source": [
        "# Latihan (10)\n",
        "\n",
        "Tampilkan data dari \"cloth_data\" mulai dari indeks 0 (nol) sampai dengan indeks 10 (sepuluh)"
      ]
    },
    {
      "cell_type": "code",
      "execution_count": null,
      "metadata": {
        "id": "g3BOCX-xW68x",
        "colab": {
          "base_uri": "https://localhost:8080/",
          "height": 394
        },
        "outputId": "188b817d-23e3-41d9-c285-f2ade167c5a3"
      },
      "outputs": [
        {
          "output_type": "execute_result",
          "data": {
            "text/plain": [
              "    age  sex  cp  trtbps  chol  fbs  restecg  thalachh  exng  oldpeak  slp  \\\n",
              "0    63    1   3     145   233    1        0       150     0      2.3    0   \n",
              "1    37    1   2     130   250    0        1       187     0      3.5    0   \n",
              "2    41    0   1     130   204    0        0       172     0      1.4    2   \n",
              "3    56    1   1     120   236    0        1       178     0      0.8    2   \n",
              "4    57    0   0     120   354    0        1       163     1      0.6    2   \n",
              "5    57    1   0     140   192    0        1       148     0      0.4    1   \n",
              "6    56    0   1     140   294    0        0       153     0      1.3    1   \n",
              "7    44    1   1     120   263    0        1       173     0      0.0    2   \n",
              "8    52    1   2     172   199    1        1       162     0      0.5    2   \n",
              "9    57    1   2     150   168    0        1       174     0      1.6    2   \n",
              "10   54    1   0     140   239    0        1       160     0      1.2    2   \n",
              "\n",
              "    caa  thall  output  \n",
              "0     0      1       1  \n",
              "1     0      2       1  \n",
              "2     0      2       1  \n",
              "3     0      2       1  \n",
              "4     0      2       1  \n",
              "5     0      1       1  \n",
              "6     0      2       1  \n",
              "7     0      3       1  \n",
              "8     0      3       1  \n",
              "9     0      2       1  \n",
              "10    0      2       1  "
            ],
            "text/html": [
              "\n",
              "  <div id=\"df-fbfaa340-fbf9-4908-b498-bcd79b52cd40\">\n",
              "    <div class=\"colab-df-container\">\n",
              "      <div>\n",
              "<style scoped>\n",
              "    .dataframe tbody tr th:only-of-type {\n",
              "        vertical-align: middle;\n",
              "    }\n",
              "\n",
              "    .dataframe tbody tr th {\n",
              "        vertical-align: top;\n",
              "    }\n",
              "\n",
              "    .dataframe thead th {\n",
              "        text-align: right;\n",
              "    }\n",
              "</style>\n",
              "<table border=\"1\" class=\"dataframe\">\n",
              "  <thead>\n",
              "    <tr style=\"text-align: right;\">\n",
              "      <th></th>\n",
              "      <th>age</th>\n",
              "      <th>sex</th>\n",
              "      <th>cp</th>\n",
              "      <th>trtbps</th>\n",
              "      <th>chol</th>\n",
              "      <th>fbs</th>\n",
              "      <th>restecg</th>\n",
              "      <th>thalachh</th>\n",
              "      <th>exng</th>\n",
              "      <th>oldpeak</th>\n",
              "      <th>slp</th>\n",
              "      <th>caa</th>\n",
              "      <th>thall</th>\n",
              "      <th>output</th>\n",
              "    </tr>\n",
              "  </thead>\n",
              "  <tbody>\n",
              "    <tr>\n",
              "      <th>0</th>\n",
              "      <td>63</td>\n",
              "      <td>1</td>\n",
              "      <td>3</td>\n",
              "      <td>145</td>\n",
              "      <td>233</td>\n",
              "      <td>1</td>\n",
              "      <td>0</td>\n",
              "      <td>150</td>\n",
              "      <td>0</td>\n",
              "      <td>2.3</td>\n",
              "      <td>0</td>\n",
              "      <td>0</td>\n",
              "      <td>1</td>\n",
              "      <td>1</td>\n",
              "    </tr>\n",
              "    <tr>\n",
              "      <th>1</th>\n",
              "      <td>37</td>\n",
              "      <td>1</td>\n",
              "      <td>2</td>\n",
              "      <td>130</td>\n",
              "      <td>250</td>\n",
              "      <td>0</td>\n",
              "      <td>1</td>\n",
              "      <td>187</td>\n",
              "      <td>0</td>\n",
              "      <td>3.5</td>\n",
              "      <td>0</td>\n",
              "      <td>0</td>\n",
              "      <td>2</td>\n",
              "      <td>1</td>\n",
              "    </tr>\n",
              "    <tr>\n",
              "      <th>2</th>\n",
              "      <td>41</td>\n",
              "      <td>0</td>\n",
              "      <td>1</td>\n",
              "      <td>130</td>\n",
              "      <td>204</td>\n",
              "      <td>0</td>\n",
              "      <td>0</td>\n",
              "      <td>172</td>\n",
              "      <td>0</td>\n",
              "      <td>1.4</td>\n",
              "      <td>2</td>\n",
              "      <td>0</td>\n",
              "      <td>2</td>\n",
              "      <td>1</td>\n",
              "    </tr>\n",
              "    <tr>\n",
              "      <th>3</th>\n",
              "      <td>56</td>\n",
              "      <td>1</td>\n",
              "      <td>1</td>\n",
              "      <td>120</td>\n",
              "      <td>236</td>\n",
              "      <td>0</td>\n",
              "      <td>1</td>\n",
              "      <td>178</td>\n",
              "      <td>0</td>\n",
              "      <td>0.8</td>\n",
              "      <td>2</td>\n",
              "      <td>0</td>\n",
              "      <td>2</td>\n",
              "      <td>1</td>\n",
              "    </tr>\n",
              "    <tr>\n",
              "      <th>4</th>\n",
              "      <td>57</td>\n",
              "      <td>0</td>\n",
              "      <td>0</td>\n",
              "      <td>120</td>\n",
              "      <td>354</td>\n",
              "      <td>0</td>\n",
              "      <td>1</td>\n",
              "      <td>163</td>\n",
              "      <td>1</td>\n",
              "      <td>0.6</td>\n",
              "      <td>2</td>\n",
              "      <td>0</td>\n",
              "      <td>2</td>\n",
              "      <td>1</td>\n",
              "    </tr>\n",
              "    <tr>\n",
              "      <th>5</th>\n",
              "      <td>57</td>\n",
              "      <td>1</td>\n",
              "      <td>0</td>\n",
              "      <td>140</td>\n",
              "      <td>192</td>\n",
              "      <td>0</td>\n",
              "      <td>1</td>\n",
              "      <td>148</td>\n",
              "      <td>0</td>\n",
              "      <td>0.4</td>\n",
              "      <td>1</td>\n",
              "      <td>0</td>\n",
              "      <td>1</td>\n",
              "      <td>1</td>\n",
              "    </tr>\n",
              "    <tr>\n",
              "      <th>6</th>\n",
              "      <td>56</td>\n",
              "      <td>0</td>\n",
              "      <td>1</td>\n",
              "      <td>140</td>\n",
              "      <td>294</td>\n",
              "      <td>0</td>\n",
              "      <td>0</td>\n",
              "      <td>153</td>\n",
              "      <td>0</td>\n",
              "      <td>1.3</td>\n",
              "      <td>1</td>\n",
              "      <td>0</td>\n",
              "      <td>2</td>\n",
              "      <td>1</td>\n",
              "    </tr>\n",
              "    <tr>\n",
              "      <th>7</th>\n",
              "      <td>44</td>\n",
              "      <td>1</td>\n",
              "      <td>1</td>\n",
              "      <td>120</td>\n",
              "      <td>263</td>\n",
              "      <td>0</td>\n",
              "      <td>1</td>\n",
              "      <td>173</td>\n",
              "      <td>0</td>\n",
              "      <td>0.0</td>\n",
              "      <td>2</td>\n",
              "      <td>0</td>\n",
              "      <td>3</td>\n",
              "      <td>1</td>\n",
              "    </tr>\n",
              "    <tr>\n",
              "      <th>8</th>\n",
              "      <td>52</td>\n",
              "      <td>1</td>\n",
              "      <td>2</td>\n",
              "      <td>172</td>\n",
              "      <td>199</td>\n",
              "      <td>1</td>\n",
              "      <td>1</td>\n",
              "      <td>162</td>\n",
              "      <td>0</td>\n",
              "      <td>0.5</td>\n",
              "      <td>2</td>\n",
              "      <td>0</td>\n",
              "      <td>3</td>\n",
              "      <td>1</td>\n",
              "    </tr>\n",
              "    <tr>\n",
              "      <th>9</th>\n",
              "      <td>57</td>\n",
              "      <td>1</td>\n",
              "      <td>2</td>\n",
              "      <td>150</td>\n",
              "      <td>168</td>\n",
              "      <td>0</td>\n",
              "      <td>1</td>\n",
              "      <td>174</td>\n",
              "      <td>0</td>\n",
              "      <td>1.6</td>\n",
              "      <td>2</td>\n",
              "      <td>0</td>\n",
              "      <td>2</td>\n",
              "      <td>1</td>\n",
              "    </tr>\n",
              "    <tr>\n",
              "      <th>10</th>\n",
              "      <td>54</td>\n",
              "      <td>1</td>\n",
              "      <td>0</td>\n",
              "      <td>140</td>\n",
              "      <td>239</td>\n",
              "      <td>0</td>\n",
              "      <td>1</td>\n",
              "      <td>160</td>\n",
              "      <td>0</td>\n",
              "      <td>1.2</td>\n",
              "      <td>2</td>\n",
              "      <td>0</td>\n",
              "      <td>2</td>\n",
              "      <td>1</td>\n",
              "    </tr>\n",
              "  </tbody>\n",
              "</table>\n",
              "</div>\n",
              "      <button class=\"colab-df-convert\" onclick=\"convertToInteractive('df-fbfaa340-fbf9-4908-b498-bcd79b52cd40')\"\n",
              "              title=\"Convert this dataframe to an interactive table.\"\n",
              "              style=\"display:none;\">\n",
              "        \n",
              "  <svg xmlns=\"http://www.w3.org/2000/svg\" height=\"24px\"viewBox=\"0 0 24 24\"\n",
              "       width=\"24px\">\n",
              "    <path d=\"M0 0h24v24H0V0z\" fill=\"none\"/>\n",
              "    <path d=\"M18.56 5.44l.94 2.06.94-2.06 2.06-.94-2.06-.94-.94-2.06-.94 2.06-2.06.94zm-11 1L8.5 8.5l.94-2.06 2.06-.94-2.06-.94L8.5 2.5l-.94 2.06-2.06.94zm10 10l.94 2.06.94-2.06 2.06-.94-2.06-.94-.94-2.06-.94 2.06-2.06.94z\"/><path d=\"M17.41 7.96l-1.37-1.37c-.4-.4-.92-.59-1.43-.59-.52 0-1.04.2-1.43.59L10.3 9.45l-7.72 7.72c-.78.78-.78 2.05 0 2.83L4 21.41c.39.39.9.59 1.41.59.51 0 1.02-.2 1.41-.59l7.78-7.78 2.81-2.81c.8-.78.8-2.07 0-2.86zM5.41 20L4 18.59l7.72-7.72 1.47 1.35L5.41 20z\"/>\n",
              "  </svg>\n",
              "      </button>\n",
              "      \n",
              "  <style>\n",
              "    .colab-df-container {\n",
              "      display:flex;\n",
              "      flex-wrap:wrap;\n",
              "      gap: 12px;\n",
              "    }\n",
              "\n",
              "    .colab-df-convert {\n",
              "      background-color: #E8F0FE;\n",
              "      border: none;\n",
              "      border-radius: 50%;\n",
              "      cursor: pointer;\n",
              "      display: none;\n",
              "      fill: #1967D2;\n",
              "      height: 32px;\n",
              "      padding: 0 0 0 0;\n",
              "      width: 32px;\n",
              "    }\n",
              "\n",
              "    .colab-df-convert:hover {\n",
              "      background-color: #E2EBFA;\n",
              "      box-shadow: 0px 1px 2px rgba(60, 64, 67, 0.3), 0px 1px 3px 1px rgba(60, 64, 67, 0.15);\n",
              "      fill: #174EA6;\n",
              "    }\n",
              "\n",
              "    [theme=dark] .colab-df-convert {\n",
              "      background-color: #3B4455;\n",
              "      fill: #D2E3FC;\n",
              "    }\n",
              "\n",
              "    [theme=dark] .colab-df-convert:hover {\n",
              "      background-color: #434B5C;\n",
              "      box-shadow: 0px 1px 3px 1px rgba(0, 0, 0, 0.15);\n",
              "      filter: drop-shadow(0px 1px 2px rgba(0, 0, 0, 0.3));\n",
              "      fill: #FFFFFF;\n",
              "    }\n",
              "  </style>\n",
              "\n",
              "      <script>\n",
              "        const buttonEl =\n",
              "          document.querySelector('#df-fbfaa340-fbf9-4908-b498-bcd79b52cd40 button.colab-df-convert');\n",
              "        buttonEl.style.display =\n",
              "          google.colab.kernel.accessAllowed ? 'block' : 'none';\n",
              "\n",
              "        async function convertToInteractive(key) {\n",
              "          const element = document.querySelector('#df-fbfaa340-fbf9-4908-b498-bcd79b52cd40');\n",
              "          const dataTable =\n",
              "            await google.colab.kernel.invokeFunction('convertToInteractive',\n",
              "                                                     [key], {});\n",
              "          if (!dataTable) return;\n",
              "\n",
              "          const docLinkHtml = 'Like what you see? Visit the ' +\n",
              "            '<a target=\"_blank\" href=https://colab.research.google.com/notebooks/data_table.ipynb>data table notebook</a>'\n",
              "            + ' to learn more about interactive tables.';\n",
              "          element.innerHTML = '';\n",
              "          dataTable['output_type'] = 'display_data';\n",
              "          await google.colab.output.renderOutput(dataTable, element);\n",
              "          const docLink = document.createElement('div');\n",
              "          docLink.innerHTML = docLinkHtml;\n",
              "          element.appendChild(docLink);\n",
              "        }\n",
              "      </script>\n",
              "    </div>\n",
              "  </div>\n",
              "  "
            ]
          },
          "metadata": {},
          "execution_count": 15
        }
      ],
      "source": [
        "#Latihan(10)\n",
        "#Tampilkan data dari \"cloth_data\" mulai dari indeks 0 (nol) sampai dengan indeks 10 (sepuluh)\n",
        "\n",
        "df.head(11)\n"
      ]
    },
    {
      "cell_type": "markdown",
      "metadata": {
        "id": "2SCmlKM3W68x"
      },
      "source": [
        "# Latihan (11)\n",
        "\n",
        "Tampilkan data dari \"heart\" untuk kolom age dan trtbps"
      ]
    },
    {
      "cell_type": "code",
      "execution_count": null,
      "metadata": {
        "id": "H6hiUSyEW68x",
        "colab": {
          "base_uri": "https://localhost:8080/",
          "height": 424
        },
        "outputId": "f0ecb0a8-3f02-413b-fe6b-14af5631d328"
      },
      "outputs": [
        {
          "output_type": "execute_result",
          "data": {
            "text/plain": [
              "     age  trtbps\n",
              "0     63     145\n",
              "1     37     130\n",
              "2     41     130\n",
              "3     56     120\n",
              "4     57     120\n",
              "..   ...     ...\n",
              "298   57     140\n",
              "299   45     110\n",
              "300   68     144\n",
              "301   57     130\n",
              "302   57     130\n",
              "\n",
              "[303 rows x 2 columns]"
            ],
            "text/html": [
              "\n",
              "  <div id=\"df-b01a08af-7ec0-4d2a-8676-9929219975fb\">\n",
              "    <div class=\"colab-df-container\">\n",
              "      <div>\n",
              "<style scoped>\n",
              "    .dataframe tbody tr th:only-of-type {\n",
              "        vertical-align: middle;\n",
              "    }\n",
              "\n",
              "    .dataframe tbody tr th {\n",
              "        vertical-align: top;\n",
              "    }\n",
              "\n",
              "    .dataframe thead th {\n",
              "        text-align: right;\n",
              "    }\n",
              "</style>\n",
              "<table border=\"1\" class=\"dataframe\">\n",
              "  <thead>\n",
              "    <tr style=\"text-align: right;\">\n",
              "      <th></th>\n",
              "      <th>age</th>\n",
              "      <th>trtbps</th>\n",
              "    </tr>\n",
              "  </thead>\n",
              "  <tbody>\n",
              "    <tr>\n",
              "      <th>0</th>\n",
              "      <td>63</td>\n",
              "      <td>145</td>\n",
              "    </tr>\n",
              "    <tr>\n",
              "      <th>1</th>\n",
              "      <td>37</td>\n",
              "      <td>130</td>\n",
              "    </tr>\n",
              "    <tr>\n",
              "      <th>2</th>\n",
              "      <td>41</td>\n",
              "      <td>130</td>\n",
              "    </tr>\n",
              "    <tr>\n",
              "      <th>3</th>\n",
              "      <td>56</td>\n",
              "      <td>120</td>\n",
              "    </tr>\n",
              "    <tr>\n",
              "      <th>4</th>\n",
              "      <td>57</td>\n",
              "      <td>120</td>\n",
              "    </tr>\n",
              "    <tr>\n",
              "      <th>...</th>\n",
              "      <td>...</td>\n",
              "      <td>...</td>\n",
              "    </tr>\n",
              "    <tr>\n",
              "      <th>298</th>\n",
              "      <td>57</td>\n",
              "      <td>140</td>\n",
              "    </tr>\n",
              "    <tr>\n",
              "      <th>299</th>\n",
              "      <td>45</td>\n",
              "      <td>110</td>\n",
              "    </tr>\n",
              "    <tr>\n",
              "      <th>300</th>\n",
              "      <td>68</td>\n",
              "      <td>144</td>\n",
              "    </tr>\n",
              "    <tr>\n",
              "      <th>301</th>\n",
              "      <td>57</td>\n",
              "      <td>130</td>\n",
              "    </tr>\n",
              "    <tr>\n",
              "      <th>302</th>\n",
              "      <td>57</td>\n",
              "      <td>130</td>\n",
              "    </tr>\n",
              "  </tbody>\n",
              "</table>\n",
              "<p>303 rows × 2 columns</p>\n",
              "</div>\n",
              "      <button class=\"colab-df-convert\" onclick=\"convertToInteractive('df-b01a08af-7ec0-4d2a-8676-9929219975fb')\"\n",
              "              title=\"Convert this dataframe to an interactive table.\"\n",
              "              style=\"display:none;\">\n",
              "        \n",
              "  <svg xmlns=\"http://www.w3.org/2000/svg\" height=\"24px\"viewBox=\"0 0 24 24\"\n",
              "       width=\"24px\">\n",
              "    <path d=\"M0 0h24v24H0V0z\" fill=\"none\"/>\n",
              "    <path d=\"M18.56 5.44l.94 2.06.94-2.06 2.06-.94-2.06-.94-.94-2.06-.94 2.06-2.06.94zm-11 1L8.5 8.5l.94-2.06 2.06-.94-2.06-.94L8.5 2.5l-.94 2.06-2.06.94zm10 10l.94 2.06.94-2.06 2.06-.94-2.06-.94-.94-2.06-.94 2.06-2.06.94z\"/><path d=\"M17.41 7.96l-1.37-1.37c-.4-.4-.92-.59-1.43-.59-.52 0-1.04.2-1.43.59L10.3 9.45l-7.72 7.72c-.78.78-.78 2.05 0 2.83L4 21.41c.39.39.9.59 1.41.59.51 0 1.02-.2 1.41-.59l7.78-7.78 2.81-2.81c.8-.78.8-2.07 0-2.86zM5.41 20L4 18.59l7.72-7.72 1.47 1.35L5.41 20z\"/>\n",
              "  </svg>\n",
              "      </button>\n",
              "      \n",
              "  <style>\n",
              "    .colab-df-container {\n",
              "      display:flex;\n",
              "      flex-wrap:wrap;\n",
              "      gap: 12px;\n",
              "    }\n",
              "\n",
              "    .colab-df-convert {\n",
              "      background-color: #E8F0FE;\n",
              "      border: none;\n",
              "      border-radius: 50%;\n",
              "      cursor: pointer;\n",
              "      display: none;\n",
              "      fill: #1967D2;\n",
              "      height: 32px;\n",
              "      padding: 0 0 0 0;\n",
              "      width: 32px;\n",
              "    }\n",
              "\n",
              "    .colab-df-convert:hover {\n",
              "      background-color: #E2EBFA;\n",
              "      box-shadow: 0px 1px 2px rgba(60, 64, 67, 0.3), 0px 1px 3px 1px rgba(60, 64, 67, 0.15);\n",
              "      fill: #174EA6;\n",
              "    }\n",
              "\n",
              "    [theme=dark] .colab-df-convert {\n",
              "      background-color: #3B4455;\n",
              "      fill: #D2E3FC;\n",
              "    }\n",
              "\n",
              "    [theme=dark] .colab-df-convert:hover {\n",
              "      background-color: #434B5C;\n",
              "      box-shadow: 0px 1px 3px 1px rgba(0, 0, 0, 0.15);\n",
              "      filter: drop-shadow(0px 1px 2px rgba(0, 0, 0, 0.3));\n",
              "      fill: #FFFFFF;\n",
              "    }\n",
              "  </style>\n",
              "\n",
              "      <script>\n",
              "        const buttonEl =\n",
              "          document.querySelector('#df-b01a08af-7ec0-4d2a-8676-9929219975fb button.colab-df-convert');\n",
              "        buttonEl.style.display =\n",
              "          google.colab.kernel.accessAllowed ? 'block' : 'none';\n",
              "\n",
              "        async function convertToInteractive(key) {\n",
              "          const element = document.querySelector('#df-b01a08af-7ec0-4d2a-8676-9929219975fb');\n",
              "          const dataTable =\n",
              "            await google.colab.kernel.invokeFunction('convertToInteractive',\n",
              "                                                     [key], {});\n",
              "          if (!dataTable) return;\n",
              "\n",
              "          const docLinkHtml = 'Like what you see? Visit the ' +\n",
              "            '<a target=\"_blank\" href=https://colab.research.google.com/notebooks/data_table.ipynb>data table notebook</a>'\n",
              "            + ' to learn more about interactive tables.';\n",
              "          element.innerHTML = '';\n",
              "          dataTable['output_type'] = 'display_data';\n",
              "          await google.colab.output.renderOutput(dataTable, element);\n",
              "          const docLink = document.createElement('div');\n",
              "          docLink.innerHTML = docLinkHtml;\n",
              "          element.appendChild(docLink);\n",
              "        }\n",
              "      </script>\n",
              "    </div>\n",
              "  </div>\n",
              "  "
            ]
          },
          "metadata": {},
          "execution_count": 16
        }
      ],
      "source": [
        "#Latihan(11)\n",
        "#Tampilkan data dari \"heart\" untuk kolom age dan trtbps\n",
        "\n",
        "df.loc[:, ['age', 'trtbps']]"
      ]
    },
    {
      "cell_type": "markdown",
      "metadata": {
        "id": "SHzqh3unW68x"
      },
      "source": [
        "# Latihan (12)\n",
        "\n",
        "Tampilkan data dari \"heart\" untuk kolom age dan trtbps, mulai dari indeks 0 (nol) sampai dengan indeks 10 (sepuluh)"
      ]
    },
    {
      "cell_type": "code",
      "execution_count": null,
      "metadata": {
        "id": "TttlmI9-W68y",
        "colab": {
          "base_uri": "https://localhost:8080/",
          "height": 394
        },
        "outputId": "3cfc289a-70ea-4cd0-c139-715d248a7467"
      },
      "outputs": [
        {
          "output_type": "execute_result",
          "data": {
            "text/plain": [
              "    age  trtbps\n",
              "0    63     145\n",
              "1    37     130\n",
              "2    41     130\n",
              "3    56     120\n",
              "4    57     120\n",
              "5    57     140\n",
              "6    56     140\n",
              "7    44     120\n",
              "8    52     172\n",
              "9    57     150\n",
              "10   54     140"
            ],
            "text/html": [
              "\n",
              "  <div id=\"df-cd639ad4-3863-4fd0-8f19-45be31c5313a\">\n",
              "    <div class=\"colab-df-container\">\n",
              "      <div>\n",
              "<style scoped>\n",
              "    .dataframe tbody tr th:only-of-type {\n",
              "        vertical-align: middle;\n",
              "    }\n",
              "\n",
              "    .dataframe tbody tr th {\n",
              "        vertical-align: top;\n",
              "    }\n",
              "\n",
              "    .dataframe thead th {\n",
              "        text-align: right;\n",
              "    }\n",
              "</style>\n",
              "<table border=\"1\" class=\"dataframe\">\n",
              "  <thead>\n",
              "    <tr style=\"text-align: right;\">\n",
              "      <th></th>\n",
              "      <th>age</th>\n",
              "      <th>trtbps</th>\n",
              "    </tr>\n",
              "  </thead>\n",
              "  <tbody>\n",
              "    <tr>\n",
              "      <th>0</th>\n",
              "      <td>63</td>\n",
              "      <td>145</td>\n",
              "    </tr>\n",
              "    <tr>\n",
              "      <th>1</th>\n",
              "      <td>37</td>\n",
              "      <td>130</td>\n",
              "    </tr>\n",
              "    <tr>\n",
              "      <th>2</th>\n",
              "      <td>41</td>\n",
              "      <td>130</td>\n",
              "    </tr>\n",
              "    <tr>\n",
              "      <th>3</th>\n",
              "      <td>56</td>\n",
              "      <td>120</td>\n",
              "    </tr>\n",
              "    <tr>\n",
              "      <th>4</th>\n",
              "      <td>57</td>\n",
              "      <td>120</td>\n",
              "    </tr>\n",
              "    <tr>\n",
              "      <th>5</th>\n",
              "      <td>57</td>\n",
              "      <td>140</td>\n",
              "    </tr>\n",
              "    <tr>\n",
              "      <th>6</th>\n",
              "      <td>56</td>\n",
              "      <td>140</td>\n",
              "    </tr>\n",
              "    <tr>\n",
              "      <th>7</th>\n",
              "      <td>44</td>\n",
              "      <td>120</td>\n",
              "    </tr>\n",
              "    <tr>\n",
              "      <th>8</th>\n",
              "      <td>52</td>\n",
              "      <td>172</td>\n",
              "    </tr>\n",
              "    <tr>\n",
              "      <th>9</th>\n",
              "      <td>57</td>\n",
              "      <td>150</td>\n",
              "    </tr>\n",
              "    <tr>\n",
              "      <th>10</th>\n",
              "      <td>54</td>\n",
              "      <td>140</td>\n",
              "    </tr>\n",
              "  </tbody>\n",
              "</table>\n",
              "</div>\n",
              "      <button class=\"colab-df-convert\" onclick=\"convertToInteractive('df-cd639ad4-3863-4fd0-8f19-45be31c5313a')\"\n",
              "              title=\"Convert this dataframe to an interactive table.\"\n",
              "              style=\"display:none;\">\n",
              "        \n",
              "  <svg xmlns=\"http://www.w3.org/2000/svg\" height=\"24px\"viewBox=\"0 0 24 24\"\n",
              "       width=\"24px\">\n",
              "    <path d=\"M0 0h24v24H0V0z\" fill=\"none\"/>\n",
              "    <path d=\"M18.56 5.44l.94 2.06.94-2.06 2.06-.94-2.06-.94-.94-2.06-.94 2.06-2.06.94zm-11 1L8.5 8.5l.94-2.06 2.06-.94-2.06-.94L8.5 2.5l-.94 2.06-2.06.94zm10 10l.94 2.06.94-2.06 2.06-.94-2.06-.94-.94-2.06-.94 2.06-2.06.94z\"/><path d=\"M17.41 7.96l-1.37-1.37c-.4-.4-.92-.59-1.43-.59-.52 0-1.04.2-1.43.59L10.3 9.45l-7.72 7.72c-.78.78-.78 2.05 0 2.83L4 21.41c.39.39.9.59 1.41.59.51 0 1.02-.2 1.41-.59l7.78-7.78 2.81-2.81c.8-.78.8-2.07 0-2.86zM5.41 20L4 18.59l7.72-7.72 1.47 1.35L5.41 20z\"/>\n",
              "  </svg>\n",
              "      </button>\n",
              "      \n",
              "  <style>\n",
              "    .colab-df-container {\n",
              "      display:flex;\n",
              "      flex-wrap:wrap;\n",
              "      gap: 12px;\n",
              "    }\n",
              "\n",
              "    .colab-df-convert {\n",
              "      background-color: #E8F0FE;\n",
              "      border: none;\n",
              "      border-radius: 50%;\n",
              "      cursor: pointer;\n",
              "      display: none;\n",
              "      fill: #1967D2;\n",
              "      height: 32px;\n",
              "      padding: 0 0 0 0;\n",
              "      width: 32px;\n",
              "    }\n",
              "\n",
              "    .colab-df-convert:hover {\n",
              "      background-color: #E2EBFA;\n",
              "      box-shadow: 0px 1px 2px rgba(60, 64, 67, 0.3), 0px 1px 3px 1px rgba(60, 64, 67, 0.15);\n",
              "      fill: #174EA6;\n",
              "    }\n",
              "\n",
              "    [theme=dark] .colab-df-convert {\n",
              "      background-color: #3B4455;\n",
              "      fill: #D2E3FC;\n",
              "    }\n",
              "\n",
              "    [theme=dark] .colab-df-convert:hover {\n",
              "      background-color: #434B5C;\n",
              "      box-shadow: 0px 1px 3px 1px rgba(0, 0, 0, 0.15);\n",
              "      filter: drop-shadow(0px 1px 2px rgba(0, 0, 0, 0.3));\n",
              "      fill: #FFFFFF;\n",
              "    }\n",
              "  </style>\n",
              "\n",
              "      <script>\n",
              "        const buttonEl =\n",
              "          document.querySelector('#df-cd639ad4-3863-4fd0-8f19-45be31c5313a button.colab-df-convert');\n",
              "        buttonEl.style.display =\n",
              "          google.colab.kernel.accessAllowed ? 'block' : 'none';\n",
              "\n",
              "        async function convertToInteractive(key) {\n",
              "          const element = document.querySelector('#df-cd639ad4-3863-4fd0-8f19-45be31c5313a');\n",
              "          const dataTable =\n",
              "            await google.colab.kernel.invokeFunction('convertToInteractive',\n",
              "                                                     [key], {});\n",
              "          if (!dataTable) return;\n",
              "\n",
              "          const docLinkHtml = 'Like what you see? Visit the ' +\n",
              "            '<a target=\"_blank\" href=https://colab.research.google.com/notebooks/data_table.ipynb>data table notebook</a>'\n",
              "            + ' to learn more about interactive tables.';\n",
              "          element.innerHTML = '';\n",
              "          dataTable['output_type'] = 'display_data';\n",
              "          await google.colab.output.renderOutput(dataTable, element);\n",
              "          const docLink = document.createElement('div');\n",
              "          docLink.innerHTML = docLinkHtml;\n",
              "          element.appendChild(docLink);\n",
              "        }\n",
              "      </script>\n",
              "    </div>\n",
              "  </div>\n",
              "  "
            ]
          },
          "metadata": {},
          "execution_count": 17
        }
      ],
      "source": [
        "#Latihan(12)\n",
        "#Tampilkan data dari \"heart\" untuk kolom age dan trtbps, mulai dari indeks 0 (nol) sampai dengan indeks 10 (sepuluh)\n",
        "\n",
        "df.loc[0:10, ['age', 'trtbps']]"
      ]
    },
    {
      "cell_type": "markdown",
      "metadata": {
        "id": "CmKaA0WMW68y"
      },
      "source": [
        "# Latihan (13)\n",
        "\n",
        "Lakukan import Library Matplotlib"
      ]
    },
    {
      "cell_type": "code",
      "execution_count": null,
      "metadata": {
        "id": "4ApgQwMJW68z"
      },
      "outputs": [],
      "source": [
        "#Latihan(13)\n",
        "#Import Library Matplotlib\n",
        "\n",
        "import matplotlib.pyplot as plt"
      ]
    },
    {
      "cell_type": "markdown",
      "metadata": {
        "id": "5Rqfv-5cW68z"
      },
      "source": [
        "# Latihan (14)\n",
        "\n",
        "Buatlah visualisasi dalam bentuk histogram pada data \"heart\" untuk kolom age"
      ]
    },
    {
      "cell_type": "code",
      "execution_count": null,
      "metadata": {
        "id": "HjhCvny-W680",
        "colab": {
          "base_uri": "https://localhost:8080/",
          "height": 281
        },
        "outputId": "dda740ce-2118-4077-ba38-83a493ce0564"
      },
      "outputs": [
        {
          "output_type": "display_data",
          "data": {
            "text/plain": [
              "<Figure size 432x288 with 1 Axes>"
            ],
            "image/png": "[encoded data removed]"
          },
          "metadata": {
            "needs_background": "light"
          }
        }
      ],
      "source": [
        "#Latihan(14)\n",
        "#Buat histogram untuk kolom age\n",
        "\n",
        "df.hist(column='age', bins=30);"
      ]
    },
    {
      "cell_type": "markdown",
      "metadata": {
        "id": "VLIQ_vzKW680"
      },
      "source": [
        "# Latihan (15)\n",
        "\n",
        "Buatlah visualisasi dalam bentuk grafik (plot) pada data \"heart\" untuk kolom age dan kolom trtbps"
      ]
    },
    {
      "cell_type": "code",
      "source": [
        "df.sort_values(\"age\", axis = 0, ascending = True,\n",
        "                 inplace = True, na_position ='last')"
      ],
      "metadata": {
        "id": "rOoemuAzlYzt"
      },
      "execution_count": null,
      "outputs": []
    },
    {
      "cell_type": "code",
      "execution_count": null,
      "metadata": {
        "id": "TRmaoMVXW680",
        "colab": {
          "base_uri": "https://localhost:8080/",
          "height": 297
        },
        "outputId": "a846407a-1cc2-46cb-c29b-97dd584e75b9"
      },
      "outputs": [
        {
          "output_type": "execute_result",
          "data": {
            "text/plain": [
              "<matplotlib.axes._subplots.AxesSubplot at 0x7fe1c3a47510>"
            ]
          },
          "metadata": {},
          "execution_count": 31
        },
        {
          "output_type": "display_data",
          "data": {
            "text/plain": [
              "<Figure size 432x288 with 1 Axes>"
            ],
            "image/png": "[encoded data removed]"
          },
          "metadata": {
            "needs_background": "light"
          }
        }
      ],
      "source": [
        "#Latihan(15)\n",
        "#Visualisasi dalam bentuk grafik (plot) pada data \"cloth_data\" untuk kolom age dan kolom size\n",
        "\n",
        "df.plot(\"age\",\"trtbps\")"
      ]
    },
    {
      "cell_type": "markdown",
      "metadata": {
        "id": "Rwe2TgctW680"
      },
      "source": [
        "# Latihan (16)\n",
        "\n",
        "Buatlah visualisasi dalam bentuk grafik (plot) pada data \"heart\" untuk kolom trtbps dan kolom age"
      ]
    },
    {
      "cell_type": "code",
      "execution_count": null,
      "metadata": {
        "id": "Br1ZYKp0W681",
        "colab": {
          "base_uri": "https://localhost:8080/",
          "height": 297
        },
        "outputId": "e37bd991-6eb8-4b0a-af2e-28f5085826d7"
      },
      "outputs": [
        {
          "output_type": "execute_result",
          "data": {
            "text/plain": [
              "<matplotlib.axes._subplots.AxesSubplot at 0x7fe1c3936890>"
            ]
          },
          "metadata": {},
          "execution_count": 34
        },
        {
          "output_type": "display_data",
          "data": {
            "text/plain": [
              "<Figure size 432x288 with 1 Axes>"
            ],
            "image/png": "[encoded data removed]"
          },
          "metadata": {
            "needs_background": "light"
          }
        }
      ],
      "source": [
        "#Latihan(16)\n",
        "#Visualisasi dalam bentuk grafik (plot) pada data \"heart\" untuk kolom trtbps dan kolom age\n",
        "\n",
        "df.plot(\"trtbps\",\"age\")"
      ]
    },
    {
      "cell_type": "markdown",
      "metadata": {
        "id": "SgJXYgGlW681"
      },
      "source": [
        "# Latihan (17)\n",
        "\n",
        "Import library seaborn"
      ]
    },
    {
      "cell_type": "code",
      "execution_count": null,
      "metadata": {
        "id": "gZAIa0_AW681"
      },
      "outputs": [],
      "source": [
        "#Latihan(17)\n",
        "#Import library seaborn\n",
        "\n",
        "import seaborn as sns"
      ]
    },
    {
      "cell_type": "markdown",
      "metadata": {
        "id": "y2QJgF-gW681"
      },
      "source": [
        "# Latihan (18)\n",
        "\n",
        "Buatlah visualisasi dalam bentuk scatterplot pada data \"heart\" untuk kolom age dan trtbps"
      ]
    },
    {
      "cell_type": "code",
      "execution_count": null,
      "metadata": {
        "id": "HThrcCZVW681",
        "colab": {
          "base_uri": "https://localhost:8080/",
          "height": 297
        },
        "outputId": "4e58683a-fffe-4853-f9b0-f9c4d8f35f1f"
      },
      "outputs": [
        {
          "output_type": "execute_result",
          "data": {
            "text/plain": [
              "<matplotlib.axes._subplots.AxesSubplot at 0x7fe1b36e0450>"
            ]
          },
          "metadata": {},
          "execution_count": 40
        },
        {
          "output_type": "display_data",
          "data": {
            "text/plain": [
              "<Figure size 432x288 with 1 Axes>"
            ],
            "image/png": "[encoded data removed]"
          },
          "metadata": {
            "needs_background": "light"
          }
        }
      ],
      "source": [
        "#latihan(18)\n",
        "#Buat scatterplot dengan kolom age dan size\n",
        "\n",
        "sns.scatterplot(\n",
        "    data=df, x=\"age\", y=\"trtbps\", hue=\"age\", size=\"age\",\n",
        "    sizes=(20, 200), hue_norm=(0, 7)\n",
        ")"
      ]
    },
    {
      "cell_type": "markdown",
      "metadata": {
        "id": "h5OxeKDBW682"
      },
      "source": [
        "# Latihan (19)\n",
        "\n",
        "Buatlah visualisasi dalam bentuk scatterplot pada data \"heart\" untuk kolom trtbps dan kolom age"
      ]
    },
    {
      "cell_type": "code",
      "execution_count": null,
      "metadata": {
        "id": "enfbaBNTW682",
        "colab": {
          "base_uri": "https://localhost:8080/",
          "height": 297
        },
        "outputId": "409784b1-1994-401e-d77a-d2487e6786b3"
      },
      "outputs": [
        {
          "output_type": "execute_result",
          "data": {
            "text/plain": [
              "<matplotlib.axes._subplots.AxesSubplot at 0x7fe1b3699e50>"
            ]
          },
          "metadata": {},
          "execution_count": 41
        },
        {
          "output_type": "display_data",
          "data": {
            "text/plain": [
              "<Figure size 432x288 with 1 Axes>"
            ],
            "image/png": "[encoded data removed]"
          },
          "metadata": {
            "needs_background": "light"
          }
        }
      ],
      "source": [
        "#latihan(19)\n",
        "#Buat scatterplot dengan kolom trtbps dan age\n",
        "\n",
        "sns.scatterplot(\n",
        "    data=df, x=\"trtbps\", y=\"age\", hue=\"age\", size=\"age\",\n",
        "    sizes=(20, 200), hue_norm=(0, 7)\n",
        ")"
      ]
    },
    {
      "cell_type": "markdown",
      "metadata": {
        "id": "9AIkdkocW682"
      },
      "source": [
        "# Latihan (20)\n",
        "\n",
        "Buatlah visualisasi dalam bentuk histogram pada data \"heart\" untuk kolom age"
      ]
    },
    {
      "cell_type": "code",
      "execution_count": null,
      "metadata": {
        "id": "NoRIR_QiW682",
        "colab": {
          "base_uri": "https://localhost:8080/",
          "height": 297
        },
        "outputId": "74e876cd-81b3-4f13-8a24-79524620cbe2"
      },
      "outputs": [
        {
          "output_type": "execute_result",
          "data": {
            "text/plain": [
              "<matplotlib.axes._subplots.AxesSubplot at 0x7fe1b2f37c50>"
            ]
          },
          "metadata": {},
          "execution_count": 43
        },
        {
          "output_type": "display_data",
          "data": {
            "text/plain": [
              "<Figure size 432x288 with 1 Axes>"
            ],
            "image/png": "[encoded data removed]"
          },
          "metadata": {
            "needs_background": "light"
          }
        }
      ],
      "source": [
        "#Latihan(20)\n",
        "#Buat histogram untuk kolom size\n",
        "\n",
        "sns.histplot(data=df, x=\"age\", hue=\"age\", multiple=\"stack\", legend = False)"
      ]
    }
  ]
}